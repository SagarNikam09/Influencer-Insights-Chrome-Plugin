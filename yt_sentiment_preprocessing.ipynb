{
  "cells": [
    {
      "cell_type": "markdown",
      "id": "9f99e9ae-fd48-47fe-b854-b36325a8e12a",
      "metadata": {
        "id": "9f99e9ae-fd48-47fe-b854-b36325a8e12a"
      },
      "source": [
        "# Load the Packages"
      ]
    },
    {
      "cell_type": "code",
      "execution_count": 2,
      "id": "7bff0a86-8452-4876-9479-0af4b23575c7",
      "metadata": {
        "id": "7bff0a86-8452-4876-9479-0af4b23575c7"
      },
      "outputs": [],
      "source": [
        "import re\n",
        "import numpy as np\n",
        "import pandas as pd\n",
        "import matplotlib.pyplot as plt\n",
        "import seaborn as sns\n",
        "from wordcloud import WordCloud\n",
        "import nltk\n",
        "import missingno\n",
        "from nltk.corpus import stopwords\n",
        "from nltk.stem import WordNetLemmatizer\n",
        "import plotly.express as px\n",
        "from collections import Counter\n",
        "from nltk.tokenize import word_tokenize"
      ]
    },
    {
      "cell_type": "markdown",
      "id": "950ae2ae-86e5-4142-9787-676fa4df514e",
      "metadata": {
        "id": "950ae2ae-86e5-4142-9787-676fa4df514e"
      },
      "source": [
        "# Load Data"
      ]
    },
    {
      "cell_type": "code",
      "execution_count": 5,
      "id": "6cb758a8-e3b4-45cc-8a7e-3118450011c3",
      "metadata": {
        "colab": {
          "base_uri": "https://localhost:8080/",
          "height": 423
        },
        "id": "6cb758a8-e3b4-45cc-8a7e-3118450011c3",
        "outputId": "75e8f30f-32ad-432f-f5d9-0632335c119e"
      },
      "outputs": [
        {
          "data": {
            "application/vnd.microsoft.datawrangler.viewer.v0+json": {
              "columns": [
                {
                  "name": "index",
                  "rawType": "int64",
                  "type": "integer"
                },
                {
                  "name": "clean_comment",
                  "rawType": "object",
                  "type": "unknown"
                },
                {
                  "name": "category",
                  "rawType": "int64",
                  "type": "integer"
                }
              ],
              "conversionMethod": "pd.DataFrame",
              "ref": "b6d113ea-eb3d-4236-9e2c-2a914b9f65b7",
              "rows": [
                [
                  "0",
                  " family mormon have never tried explain them they still stare puzzled from time time like some kind strange creature nonetheless they have come admire for the patience calmness equanimity acceptance and compassion have developed all the things buddhism teaches ",
                  "1"
                ],
                [
                  "1",
                  "buddhism has very much lot compatible with christianity especially considering that sin and suffering are almost the same thing suffering caused wanting things shouldn want going about getting things the wrong way christian this would mean wanting things that don coincide with god will and wanting things that coincide but without the aid jesus buddhism could also seen proof god all mighty will and omnipotence certainly christians are lucky have one such christ there side but what about everyone else well many christians believe god grace salvation and buddhism god way showing grace upon others would also help study the things jesus said and see how buddha has made similar claims such rich man getting into heaven joke basically advocating that should rid ourselves material possessions fact distinctly remembered jesus making someone cry because that someone asked what achieve salvation and jesus replied with live like buddhist very very roughly translated also point out that buddha rarely spoke anything about god theory personally because knew well enough leave that jesus and mohamed who came later just remember conflict difference opinion but education can fun involving and enlightening easier teach something than prove right like intelligent design ",
                  "1"
                ],
                [
                  "2",
                  "seriously don say thing first all they won get its too complex explain normal people anyway and they are dogmatic then doesn matter what you say see mechante post and for any reason you decide later life move from buddhism and that doesn suit you identity though you still get keep all the wisdom then your family will treat you like you went through weird hippy phase for while there didncha and you never hear the end pro tip don put one these your wall jpg ",
                  "-1"
                ],
                [
                  "3",
                  "what you have learned yours and only yours what you want teach different focus the goal not the wrapping paper buddhism can passed others without word about the buddha ",
                  "0"
                ],
                [
                  "4",
                  "for your own benefit you may want read living buddha living christ thich nhat hanh you might find any subsequent discussions with your loved ones easier you are able articulate some the parallels that exist between buddhism and christianity don surprised they react negatively for having lost you treat them with compassion and deserved understanding although they may indeed display signs being hurt your new path properly sharing with them way that may alleviate their fear something they may perceive wrong the very least alien their beliefs may help allowing them the long run accept although not necessarily agree with your decision regardless where they end you have make your own way ",
                  "1"
                ],
                [
                  "5",
                  "you should all sit down together and watch the simpsons episode where lisa becomes buddhist simpsons season episode she little faith then discuss ",
                  "-1"
                ],
                [
                  "6",
                  " was teens when discovered zen meditation was then undiagnosed bpd being homeschooled and just gotten 56k modem with web connection where came across link zen meditation tried for couple weeks and the change was palpable felt the most profound sense peace ever felt grades immediately started going had more energy started martial arts just huge positive change all around parents asked something was wrong fundie parents when anything changes this was where naiveté kicked foolishly told them been trying meditation and really calmed down thought they happy that found something that helped but never forget what happened next mother affected this mockingly calm breathy voice she said you can pretend calm and happy all you want but without jesus you never content was that moment that any belief had christian faith all vanished completely realized that she had probably never been happy ever have never felt profoundly sorry for someone did for her that moment ",
                  "1"
                ],
                [
                  "7",
                  "jesus was zen meets jew ",
                  "0"
                ],
                [
                  "8",
                  "there are two varieties christians dogmatic that dwell words and conservative that take heart the spirit the teachings hate oversimplify things but helps this understanding you are discussing with dogmatic religious people who live the letter the law will uphill battle wish you luck you are discussing with moderates exchange idea should come fairly easily comparing contrasting also discussing parallel teachings presented differently wouldn out the ordinary they may give you relevant spiritual advice even though you are not believer their religion ",
                  "-1"
                ],
                [
                  "9",
                  "dont worry about trying explain yourself just meditate regularly and try hard you can more aware everything else will follow coming from someone who has been throught his situation welcome pms ",
                  "1"
                ],
                [
                  "10",
                  " recently told family that buddhist live the bible belt this whole ordeal involved leaving the baptist church and everything been pretty rough but those who really care about have been open and accepting they seen the good has created life and relationships with others fact there are handful christians who have lovely conversations with and that truly respect someone else suggested living buddha living christ great one read about the important dialogue between buddhists and christians also welcome you message ",
                  "1"
                ],
                [
                  "11",
                  " unto others you would have them unto you would good start ",
                  "1"
                ],
                [
                  "12",
                  "first understand that you are not anyway control how they will react always find that any subject better understood first learning the vocabulary explain what the word buddha means most people believe buddhists praise worship and follow guy named buddha christians due jesus let them know that one could both buddhist and christian with conflict the teachings and the messages jesus are indeed buddhist philosophy jesus became enlightened buddha and realized that had become annointed being christ then continue with your practice and let them work out their own issues that advice all the best ",
                  "1"
                ],
                [
                  "13",
                  " recently heard similar question where person asked they should introduce meditation his loved ones who had challenges coping with problems life the answer from the lama was quite interesting instead giving people advice one should focus his practice that way others will see the change and maybe even ask about personally think better keep yourself even though you must really excited about you can also keep dharma books around the house and sure people will pick them for quick browse when you are not looking learn bit about other people traditions well browsing through books they owned ",
                  "1"
                ],
                [
                  "14",
                  "different times different cultures same point they were trying get across jesus said god has beginning nor end buddha said mind was never born and has never died just replace the word meditation with prayer and couting the breath with the name jesus and everyone happy",
                  "1"
                ],
                [
                  "15",
                  "does evil include the lady pai chunked ",
                  "-1"
                ],
                [
                  "16",
                  "our campaign has two suns one pelor the other shamedan pelor the god all know and find bit stifling really shamedan the sun desert the burning sun who will kill you without mercy even second though shamedan brings drought and brings the fire that destroys all you own generally not very nice has race fey called desert hags who worship him and have radiant and fire resistance but they haven played nearly much part the campaign they should have ",
                  "1"
                ],
                [
                  "17",
                  "technically you could argue that sobek evil would represent power and also crocodiles whereas also represents fertile land also the guy could shapeshift into crocodile badass ",
                  "-1"
                ],
                [
                  "18",
                  " zarus ",
                  "0"
                ],
                [
                  "19",
                  "blood and souls for lord arioch ",
                  "0"
                ],
                [
                  "20",
                  " always liked vecna the one time was able use him story had blast playing the fact that was far not the most powerful deity but was one the most dangerous due his portfolio but favorite pale night who technically not deity but close enough guess most the abyssal lords and the rulers the nine hells are fairly straightforward and have ample backstory but her lack thereof just intriguing ",
                  "1"
                ],
                [
                  "21",
                  "though don have any good suggestions for additional deities the moment you should probably have some overlap the cavern dwelling gnolls might consider pelor the god evil blinding them with his wicked light loki has sufficiently fooled them over the years into thinking their benefactor always leading them the bountiful crops they steal from the peasantry they have statues him fat woman giving out food the starving they view the god death the god justice giving righteous end those gnolls that have served brutal conflicts point view can change everything ",
                  "-1"
                ],
                [
                  "22",
                  " cliche but you can wrong with cyric mean was mortal who just nabbed all when got the chance you gotta respect that ",
                  "-1"
                ],
                [
                  "23",
                  "zon kuthon and his sister shelyn good deity have really cool story from the pathfinder setting plus off topic pathfinder has the coolest good deity ever cayden cailean was bard that got wasted one night stumbled into the temple the star stone artifact that can turn you into deity and woke the next morning with hangover memory the night before and godly powers ",
                  "1"
                ],
                [
                  "24",
                  " homebrew setting the primary lawful evil deity named for friend lewie essentially has three domains tyranny law applied without mercy vengeance and community the idea being that cruel and harsh god but also recognizes that you catch more flies with honey than with vinegar thus his church often the most benevolent toward the common people day day basis the running gag that lewian churches sponsor more inner city basketball teams than any other major faith you probably want change the name but might make interesting dynamic within your setting ",
                  "-1"
                ],
                [
                  "25",
                  "his name shall lump wherever lumps are there warts tree burls breasts humpback whales ",
                  "0"
                ],
                [
                  "26",
                  "for one campaign pretty much just snatched the chaos god nurgle lord plague from the whfb wh40k universe renamed him narghull was nar ghull can remember random apostrophes are always nice though the campaign revolved around his cult trying wake the god from sleep that had lasted 1000 years but sadly stalled very lazy this was back was never meant encountered directly meaning never worked out any stats anything basically works spread plague and other diseases and pretty damn evil think ",
                  "-1"
                ],
                [
                  "27",
                  "demogorgon because fuck you and your shit god ",
                  "-1"
                ],
                [
                  "28",
                  "you want badasss evil gods you want real gods then choose from this list there plenty evil cthulhu mythos ",
                  "-1"
                ],
                [
                  "29",
                  "pelor the burning hate the best evil god ",
                  "-1"
                ],
                [
                  "30",
                  "fyi the traditional chtonic deity for magic for the romans least was the goddess hecate ",
                  "1"
                ],
                [
                  "31",
                  " far evil goes big fan shar from the forgotten realms setting the god ultimate despair loss and suffering you know god evil when followers don even bother asking for small boons but instead invoke suffering themselves and others hopes that those events will enough prevent the god from needing get involved personally bringing suffering into the world shar isn one those pansy goddesses evil where you might get nod appreciation for sacrifice with shar you better kill somebody damn near ever day and you get nothing and like with check out the dogma here ",
                  "-1"
                ],
                [
                  "32",
                  " like the idea prometheus giving magic the pcs however think that prometheus should more like demi god and that the reason why gives the magic mortals prometheus could jealous the fact that the gods have all the powers and they granted him only half status upon his creation thus his revenge giving humanity order turn the tides power among deities and mortals furthermore perhaps the repercussion prometheus feels from his action being dragged the underworld cerberus making him seem less than deity like and more mortal inhuman order face judgment from egyptian goddess morals virtue and judge the dead ",
                  "1"
                ],
                [
                  "33",
                  "pelor the burning hate also hextor boss god tyranny and conquest always fun think one the books there god lawyers too ",
                  "-1"
                ],
                [
                  "34",
                  "wee jas lawful neutral god death magic and necromancy not evil god but perfect representation the inevitable things which mortals fear while other evil gods make plans which may thwarted wee jas merely waits all shall come her the end also playing cleric her fabulous fun ",
                  "1"
                ],
                [
                  "35",
                  "zen master bassui said when the functioning analytical consciousness destroyed feelings are purified this referred the pure land the west you truly want know the meaning being born the pure land you must first know the master who born this land the physical body has never from its inception been the true body but rather temporary formation the five aggregates after the four elements disperse what remains called the self the self originally empty what that born the pure land there master born the pure land what that seeks this land bliss just extinguish the ever seeking mind rid thoughts and attachment form and the body consisting the four elements will have individual self when there individual mind the nature mind and there aspect disorder ",
                  "1"
                ],
                [
                  "36",
                  "pure land other power opposed the usual self power taught most buddhist schools though the pure land here and now and not some other dimension the afterlife ",
                  "1"
                ],
                [
                  "37",
                  "there are many flavours buddhism pure land ideas are not common all them however the important thing realize doesn really matter that the big difference compared the abrahamic religions buddhism not dogmatic the sense bunch things that must taken literally else you are non believer sinner whatever maybe pure land ideas work for you great maybe they don great what works for you works for you what doesn work useless you the historical buddha himself taught dramatically different styles suit his audience parables and metaphors are just that the point where they take you not literally believing them literally and physically true zen koans are good example this very purely distilled most are the form stories but not stories you are believe physically happened you are reading history book that entirely irrelevant what the story does you that the point you are wondering did this really happen does this place really exist you are missing that point also worth noting that most things are about psychological phenomenon not physical phenomenon personally find this makes buddhist cosmology much easier understand than considering competitor physical cosmology they not conflict they just about different cosmos ",
                  "1"
                ],
                [
                  "38",
                  " going try comment this simply can gets metaphysical and some may even say supernatural but hope you can try maintain open mind enough for help with your understanding everything that physical everything that exists the universe and beyond are created the power the mind exercised through consciousness mara created the samsara worlds planes dimensions that may experience joy sadness love heartbreaks etc this was done through his her its focus the mind and streams consciousness began attracted these worlds planes dimensions and begin develop craving for existence and thus begins the cycle rebirth the pure lands buddhism were created the focus the mind amitabha buddha way help individuals attain enlightenment their own pace amitabha buddha understood that the attraction emotions sex love and existence can overwhelming for normal individuals overcome within one lifetime 100 years average for human beings other beings much shorter and yet others much longer created the pure lands the west place refuge and practice for those who call upon his name sincerely this place not metaphorical state mind while these individuals are earth for lack better word real though not necessarily physical the way feel physical things via the electromagnetic repelling force electrons this world certain laws physics are applicable that world land plane dimension whatchamacallit certain laws physics not apply and yet newer laws superphysics would also the rule there that not the law our world now having been carried this land doesn mean that the individuals are guaranteed enlightenment first they still need cultivate themselves while there enlightenment not given dependant every single individual consciousness efforts shed the fetters samsara anger ignorance and jealousy and embrace the noble truths they may choose rejoin the samsaric worlds again and back into the cycle rebirth but least they have the option stay and cultivate themselves the pure land the west that would the main difference between the abrahamic idea heaven against the amitabha buddha pure lands the west hope this helps ",
                  "1"
                ],
                [
                  "39",
                  " think your characterization pure land isn that far off there reason not that popular among westerners odd abandon christianity judaism and take pure land because first impressions buddhism was that was devoid dogma but now seems much leap faith the abrahamic religions least the pure land sect most forms buddhism have some sort supernatural element some orthodox believers might deny that just like some christians might attempt make scientific arguments for the world being 6000 years old the very least you have rebirth and different planes that includes devas zen seems have the least reverence for dogma which why popular the west the other western strategy assume things are meaningful figuratively and not literally but yeah buddhism religion the end the day for most its followers ",
                  "1"
                ],
                [
                  "40",
                  "most religions have dogmatic orthodox well esoteric philosophic side the christian heaven can seen palace the clouds state mind rebirth buddhism can seen fact just superstition left over from other beliefs you interpret and understand you see fit like think about various religions talking about the same thing using different words and yes cherry pick what believe but honestly and very carefully think better than taking everything religion says and rejecting everything doesn say there must hundred different ways talk about enlightenment heaven pure land individuation alchemy rites passage education trials meditation the tricky part that what describes can easily explained words and most importantly has understood which different than just knowing reading about the pure land real place state mind doubt real place but sure some will believe buddhism has some dogma but not nearly much eastern religions ",
                  "1"
                ],
                [
                  "41",
                  "you won find one answer your question but the pure land state mind perspective reality not separate place let quote thich nhat hanh human beings our deepest desire find environment which secure and where there love and understanding all want live such environment you live surroundings where you feel there security understanding and love and where people have the capacity transform their suffering fear and attachment then you live the pure land from finding our true home this isn leap faith all because you have already been the pure land but momentarily every time you bring the buddha mind fully then you are said the pure land imagine because you enter that state some degree this not matter faith but expanding upon what you know joyful experience quite different the abrahamic religions concept heaven which eschatological reality rather than gnostic one will add that there course are some who believe the pure land totally separate paradise however there are positive ways understanding this when the state mind another rebirth will seem like such foreign reality that may well different place entirely ",
                  "1"
                ],
                [
                  "42",
                  " first impressions buddhism was that was devoid dogma isn good thing about buddhism least for outsider that much easier pick and choose what parts you not want use see dogma kind environment habitat for the profound and useful ideas develop all religions have something useful buddhist religions and not just one homogeneous buddhism just seem have something that more relevant and powerful the context our culture ",
                  "1"
                ],
                [
                  "43",
                  "from limited knowledge the pure land not paradise but place contemplation stepping off point where you are given the knowledge leave the cycle suffering and rebirth anything more akin the now defunct catholic idea purgatory than actual heaven ",
                  "1"
                ],
                [
                  "44",
                  " response your question about how amitabha created the pure land this quote from the article pure land buddhism wikipedia the longer sukhāvatīvyūha sūtra the buddha begins describing his attendant ānanda past life the buddha amitābha states that past life amitābha was once king who renounced his kingdom and became bodhisattva monk named dharmākara dharma storehouse under the guidance the buddha lokeśvararāja world sovereign king innumerable buddha lands throughout the ten directions were revealed him after meditating for five eons bodhisattva then made great series vows save all sentient beings and through his great merit created the realm sukhāvatī ultimate bliss this land sukhāvatī would later come known the pure land chinese translation important remember that buddhism has been around for thousands years and that for long time buddhists didn have telescopes big machines scan the brain with his holiness the dalai lama himself has said that the discoveries science and the teachings buddhism contradict then the discoveries science are correct this video tgv1gwvrz one the major teachings the buddha was test out each his teachings oneself order see they were true rather than taking his word faith without proof however course just man who has seen mountain some remote region where one has not traveled may believed until the distance that region crossed might have some sort faith buddhist teachings since the people doing the teachings have often devoted their whole lives the teachings the buddha ",
                  "1"
                ],
                [
                  "45",
                  "exactly the song was jamming when made this ",
                  "1"
                ],
                [
                  "46",
                  " nam indeed ",
                  "0"
                ],
                [
                  "47",
                  " jbdbx28pxga",
                  "0"
                ],
                [
                  "48",
                  "maybe they ate dosa who knows ",
                  "0"
                ],
                [
                  "49",
                  "according this nbc chicago article walsh holds ladies week 169189026 html here what they have say about joe walsh unless you’ conservative suburban white male over rep joe walsh tea party ill has said something offend you walsh’ rhetoric has been caricature the image republicans party devoted only old white guys ",
                  "-1"
                ]
              ],
              "shape": {
                "columns": 2,
                "rows": 37249
              }
            },
            "text/html": [
              "<div>\n",
              "<style scoped>\n",
              "    .dataframe tbody tr th:only-of-type {\n",
              "        vertical-align: middle;\n",
              "    }\n",
              "\n",
              "    .dataframe tbody tr th {\n",
              "        vertical-align: top;\n",
              "    }\n",
              "\n",
              "    .dataframe thead th {\n",
              "        text-align: right;\n",
              "    }\n",
              "</style>\n",
              "<table border=\"1\" class=\"dataframe\">\n",
              "  <thead>\n",
              "    <tr style=\"text-align: right;\">\n",
              "      <th></th>\n",
              "      <th>clean_comment</th>\n",
              "      <th>category</th>\n",
              "    </tr>\n",
              "  </thead>\n",
              "  <tbody>\n",
              "    <tr>\n",
              "      <th>0</th>\n",
              "      <td>family mormon have never tried explain them t...</td>\n",
              "      <td>1</td>\n",
              "    </tr>\n",
              "    <tr>\n",
              "      <th>1</th>\n",
              "      <td>buddhism has very much lot compatible with chr...</td>\n",
              "      <td>1</td>\n",
              "    </tr>\n",
              "    <tr>\n",
              "      <th>2</th>\n",
              "      <td>seriously don say thing first all they won get...</td>\n",
              "      <td>-1</td>\n",
              "    </tr>\n",
              "    <tr>\n",
              "      <th>3</th>\n",
              "      <td>what you have learned yours and only yours wha...</td>\n",
              "      <td>0</td>\n",
              "    </tr>\n",
              "    <tr>\n",
              "      <th>4</th>\n",
              "      <td>for your own benefit you may want read living ...</td>\n",
              "      <td>1</td>\n",
              "    </tr>\n",
              "    <tr>\n",
              "      <th>...</th>\n",
              "      <td>...</td>\n",
              "      <td>...</td>\n",
              "    </tr>\n",
              "    <tr>\n",
              "      <th>37244</th>\n",
              "      <td>jesus</td>\n",
              "      <td>0</td>\n",
              "    </tr>\n",
              "    <tr>\n",
              "      <th>37245</th>\n",
              "      <td>kya bhai pure saal chutiya banaya modi aur jab...</td>\n",
              "      <td>1</td>\n",
              "    </tr>\n",
              "    <tr>\n",
              "      <th>37246</th>\n",
              "      <td>downvote karna tha par upvote hogaya</td>\n",
              "      <td>0</td>\n",
              "    </tr>\n",
              "    <tr>\n",
              "      <th>37247</th>\n",
              "      <td>haha nice</td>\n",
              "      <td>1</td>\n",
              "    </tr>\n",
              "    <tr>\n",
              "      <th>37248</th>\n",
              "      <td>facebook itself now working bjp’ cell</td>\n",
              "      <td>0</td>\n",
              "    </tr>\n",
              "  </tbody>\n",
              "</table>\n",
              "<p>37249 rows × 2 columns</p>\n",
              "</div>"
            ],
            "text/plain": [
              "                                           clean_comment  category\n",
              "0       family mormon have never tried explain them t...         1\n",
              "1      buddhism has very much lot compatible with chr...         1\n",
              "2      seriously don say thing first all they won get...        -1\n",
              "3      what you have learned yours and only yours wha...         0\n",
              "4      for your own benefit you may want read living ...         1\n",
              "...                                                  ...       ...\n",
              "37244                                              jesus         0\n",
              "37245  kya bhai pure saal chutiya banaya modi aur jab...         1\n",
              "37246              downvote karna tha par upvote hogaya          0\n",
              "37247                                         haha nice          1\n",
              "37248             facebook itself now working bjp’ cell          0\n",
              "\n",
              "[37249 rows x 2 columns]"
            ]
          },
          "execution_count": 5,
          "metadata": {},
          "output_type": "execute_result"
        }
      ],
      "source": [
        "# load the data\n",
        "DATA_PATH = r\"C:/Users/Sagar Nikam/Downloads/reddit-sentiment-analysis-main/reddit-sentiment-analysis-main/data/reddit.csv\"\n",
        "df = pd.read_csv(DATA_PATH)\n",
        "\n",
        "df"
      ]
    },
    {
      "cell_type": "code",
      "execution_count": 43,
      "id": "32d59b63-205a-4d30-b669-933934137024",
      "metadata": {
        "id": "32d59b63-205a-4d30-b669-933934137024"
      },
      "outputs": [],
      "source": [
        "# rename columns\n",
        "\n",
        "df.rename({\"clean_comment\":\"comment\",\n",
        "           \"category\":\"sentiment\"},axis=1,inplace=True)"
      ]
    },
    {
      "cell_type": "code",
      "execution_count": 44,
      "id": "27d24360-9ecf-46bf-b828-f7c56bf69c3e",
      "metadata": {
        "colab": {
          "base_uri": "https://localhost:8080/",
          "height": 147
        },
        "id": "27d24360-9ecf-46bf-b828-f7c56bf69c3e",
        "outputId": "5afb4165-29cf-40d0-806f-512483086d31"
      },
      "outputs": [
        {
          "data": {
            "text/plain": [
              "comment      100\n",
              "sentiment      0\n",
              "dtype: int64"
            ]
          },
          "execution_count": 44,
          "metadata": {},
          "output_type": "execute_result"
        }
      ],
      "source": [
        "# missing data\n",
        "\n",
        "df.isna().sum()"
      ]
    },
    {
      "cell_type": "markdown",
      "id": "1e36d43d-25fe-4e30-bc89-6a5908d62bd8",
      "metadata": {
        "id": "1e36d43d-25fe-4e30-bc89-6a5908d62bd8"
      },
      "source": [
        "**There are 100 missing values in the comment**"
      ]
    },
    {
      "cell_type": "code",
      "execution_count": 45,
      "id": "eedc9875-1a36-4829-929c-815fe4f679c5",
      "metadata": {
        "colab": {
          "base_uri": "https://localhost:8080/",
          "height": 463
        },
        "id": "eedc9875-1a36-4829-929c-815fe4f679c5",
        "outputId": "5a7acbbe-93fa-4436-c7cb-1861d48988dd"
      },
      "outputs": [
        {
          "data": {
            "text/plain": [
              "<Axes: >"
            ]
          },
          "execution_count": 45,
          "metadata": {},
          "output_type": "execute_result"
        },
        {
          "data": {
            "image/png": "[encoded data removed]",
            "text/plain": [
              "<Figure size 1200x700 with 2 Axes>"
            ]
          },
          "metadata": {},
          "output_type": "display_data"
        }
      ],
      "source": [
        "# missing values matrix\n",
        "\n",
        "missingno.matrix(df,figsize=(12,7))"
      ]
    },
    {
      "cell_type": "code",
      "execution_count": 46,
      "id": "64a6ed0b-4a2e-4440-be1c-e614f832098c",
      "metadata": {
        "colab": {
          "base_uri": "https://localhost:8080/",
          "height": 423
        },
        "id": "64a6ed0b-4a2e-4440-be1c-e614f832098c",
        "outputId": "2dc02ade-c67b-4e98-e8f3-36fb40deb1e1"
      },
      "outputs": [
        {
          "data": {
            "application/vnd.microsoft.datawrangler.viewer.v0+json": {
              "columns": [
                {
                  "name": "index",
                  "rawType": "int64",
                  "type": "integer"
                },
                {
                  "name": "comment",
                  "rawType": "object",
                  "type": "unknown"
                },
                {
                  "name": "sentiment",
                  "rawType": "int64",
                  "type": "integer"
                }
              ],
              "conversionMethod": "pd.DataFrame",
              "ref": "17f4460b-a45a-489a-91b8-bbd622f70460",
              "rows": [
                [
                  "413",
                  null,
                  "0"
                ],
                [
                  "605",
                  null,
                  "0"
                ],
                [
                  "2422",
                  null,
                  "0"
                ],
                [
                  "2877",
                  null,
                  "0"
                ],
                [
                  "3307",
                  null,
                  "0"
                ],
                [
                  "3420",
                  null,
                  "0"
                ],
                [
                  "4292",
                  null,
                  "0"
                ],
                [
                  "4400",
                  null,
                  "0"
                ],
                [
                  "4462",
                  null,
                  "0"
                ],
                [
                  "5127",
                  null,
                  "0"
                ],
                [
                  "6248",
                  null,
                  "0"
                ],
                [
                  "6825",
                  null,
                  "0"
                ],
                [
                  "6885",
                  null,
                  "0"
                ],
                [
                  "6952",
                  null,
                  "0"
                ],
                [
                  "7059",
                  null,
                  "0"
                ],
                [
                  "7695",
                  null,
                  "0"
                ],
                [
                  "8201",
                  null,
                  "0"
                ],
                [
                  "8968",
                  null,
                  "0"
                ],
                [
                  "9014",
                  null,
                  "0"
                ],
                [
                  "9219",
                  null,
                  "0"
                ],
                [
                  "9318",
                  null,
                  "0"
                ],
                [
                  "9806",
                  null,
                  "0"
                ],
                [
                  "10640",
                  null,
                  "0"
                ],
                [
                  "10643",
                  null,
                  "0"
                ],
                [
                  "10679",
                  null,
                  "0"
                ],
                [
                  "11943",
                  null,
                  "0"
                ],
                [
                  "12254",
                  null,
                  "0"
                ],
                [
                  "13831",
                  null,
                  "0"
                ],
                [
                  "13905",
                  null,
                  "0"
                ],
                [
                  "13931",
                  null,
                  "0"
                ],
                [
                  "14216",
                  null,
                  "0"
                ],
                [
                  "14407",
                  null,
                  "0"
                ],
                [
                  "14796",
                  null,
                  "0"
                ],
                [
                  "15091",
                  null,
                  "0"
                ],
                [
                  "15141",
                  null,
                  "0"
                ],
                [
                  "15998",
                  null,
                  "0"
                ],
                [
                  "16739",
                  null,
                  "0"
                ],
                [
                  "17359",
                  null,
                  "0"
                ],
                [
                  "17763",
                  null,
                  "0"
                ],
                [
                  "17817",
                  null,
                  "0"
                ],
                [
                  "17970",
                  null,
                  "0"
                ],
                [
                  "18163",
                  null,
                  "0"
                ],
                [
                  "18356",
                  null,
                  "0"
                ],
                [
                  "18437",
                  null,
                  "0"
                ],
                [
                  "18483",
                  null,
                  "0"
                ],
                [
                  "18889",
                  null,
                  "0"
                ],
                [
                  "19069",
                  null,
                  "0"
                ],
                [
                  "19288",
                  null,
                  "0"
                ],
                [
                  "19602",
                  null,
                  "0"
                ],
                [
                  "19914",
                  null,
                  "0"
                ]
              ],
              "shape": {
                "columns": 2,
                "rows": 100
              }
            },
            "text/html": [
              "<div>\n",
              "<style scoped>\n",
              "    .dataframe tbody tr th:only-of-type {\n",
              "        vertical-align: middle;\n",
              "    }\n",
              "\n",
              "    .dataframe tbody tr th {\n",
              "        vertical-align: top;\n",
              "    }\n",
              "\n",
              "    .dataframe thead th {\n",
              "        text-align: right;\n",
              "    }\n",
              "</style>\n",
              "<table border=\"1\" class=\"dataframe\">\n",
              "  <thead>\n",
              "    <tr style=\"text-align: right;\">\n",
              "      <th></th>\n",
              "      <th>comment</th>\n",
              "      <th>sentiment</th>\n",
              "    </tr>\n",
              "  </thead>\n",
              "  <tbody>\n",
              "    <tr>\n",
              "      <th>413</th>\n",
              "      <td>NaN</td>\n",
              "      <td>0</td>\n",
              "    </tr>\n",
              "    <tr>\n",
              "      <th>605</th>\n",
              "      <td>NaN</td>\n",
              "      <td>0</td>\n",
              "    </tr>\n",
              "    <tr>\n",
              "      <th>2422</th>\n",
              "      <td>NaN</td>\n",
              "      <td>0</td>\n",
              "    </tr>\n",
              "    <tr>\n",
              "      <th>2877</th>\n",
              "      <td>NaN</td>\n",
              "      <td>0</td>\n",
              "    </tr>\n",
              "    <tr>\n",
              "      <th>3307</th>\n",
              "      <td>NaN</td>\n",
              "      <td>0</td>\n",
              "    </tr>\n",
              "    <tr>\n",
              "      <th>...</th>\n",
              "      <td>...</td>\n",
              "      <td>...</td>\n",
              "    </tr>\n",
              "    <tr>\n",
              "      <th>35975</th>\n",
              "      <td>NaN</td>\n",
              "      <td>0</td>\n",
              "    </tr>\n",
              "    <tr>\n",
              "      <th>36036</th>\n",
              "      <td>NaN</td>\n",
              "      <td>0</td>\n",
              "    </tr>\n",
              "    <tr>\n",
              "      <th>37043</th>\n",
              "      <td>NaN</td>\n",
              "      <td>0</td>\n",
              "    </tr>\n",
              "    <tr>\n",
              "      <th>37111</th>\n",
              "      <td>NaN</td>\n",
              "      <td>0</td>\n",
              "    </tr>\n",
              "    <tr>\n",
              "      <th>37238</th>\n",
              "      <td>NaN</td>\n",
              "      <td>0</td>\n",
              "    </tr>\n",
              "  </tbody>\n",
              "</table>\n",
              "<p>100 rows × 2 columns</p>\n",
              "</div>"
            ],
            "text/plain": [
              "      comment  sentiment\n",
              "413       NaN          0\n",
              "605       NaN          0\n",
              "2422      NaN          0\n",
              "2877      NaN          0\n",
              "3307      NaN          0\n",
              "...       ...        ...\n",
              "35975     NaN          0\n",
              "36036     NaN          0\n",
              "37043     NaN          0\n",
              "37111     NaN          0\n",
              "37238     NaN          0\n",
              "\n",
              "[100 rows x 2 columns]"
            ]
          },
          "execution_count": 46,
          "metadata": {},
          "output_type": "execute_result"
        }
      ],
      "source": [
        "# rows that have missing values\n",
        "\n",
        "(\n",
        "    df.loc[\n",
        "        df['comment'].isna()\n",
        "    ]\n",
        ")"
      ]
    },
    {
      "cell_type": "code",
      "execution_count": 47,
      "id": "e9752444-c3d0-46fe-90d9-433b12ec1680",
      "metadata": {
        "colab": {
          "base_uri": "https://localhost:8080/",
          "height": 147
        },
        "id": "e9752444-c3d0-46fe-90d9-433b12ec1680",
        "outputId": "246a7692-fc35-4e46-a833-3f9c4c2b2fe3"
      },
      "outputs": [
        {
          "data": {
            "text/plain": [
              "sentiment\n",
              "0    100\n",
              "Name: count, dtype: int64"
            ]
          },
          "execution_count": 47,
          "metadata": {},
          "output_type": "execute_result"
        }
      ],
      "source": [
        "# sentiment of rows that have missing values\n",
        "\n",
        "(\n",
        "    df.loc[\n",
        "        df['comment'].isna(),\"sentiment\"\n",
        "    ]\n",
        "    .value_counts()\n",
        ")"
      ]
    },
    {
      "cell_type": "markdown",
      "id": "3a931a38-a063-435b-843a-4a55dac3dbfd",
      "metadata": {
        "id": "3a931a38-a063-435b-843a-4a55dac3dbfd"
      },
      "source": [
        "**All rows that have missing values have been labelled the sentiment of 0 (neutral)**"
      ]
    },
    {
      "cell_type": "code",
      "execution_count": 48,
      "id": "5dfdae43-81e6-449e-a2dc-4dd2c7dc88ab",
      "metadata": {
        "colab": {
          "base_uri": "https://localhost:8080/"
        },
        "id": "5dfdae43-81e6-449e-a2dc-4dd2c7dc88ab",
        "outputId": "afaa8d61-0cbb-4fc0-c512-b61fb0272989"
      },
      "outputs": [
        {
          "name": "stdout",
          "output_type": "stream",
          "text": [
            "350\n"
          ]
        }
      ],
      "source": [
        "# check for duplicate comments in the data\n",
        "\n",
        "print(df['comment'].dropna().duplicated().sum())"
      ]
    },
    {
      "cell_type": "markdown",
      "id": "3dca074c-bdf8-410a-bc64-afe1f3a26975",
      "metadata": {
        "id": "3dca074c-bdf8-410a-bc64-afe1f3a26975"
      },
      "source": [
        "**`350` comments in the data are duplicated**"
      ]
    },
    {
      "cell_type": "code",
      "execution_count": 49,
      "id": "04a28716-362d-4bfa-937f-19a5c54a0533",
      "metadata": {
        "colab": {
          "base_uri": "https://localhost:8080/"
        },
        "id": "04a28716-362d-4bfa-937f-19a5c54a0533",
        "outputId": "5cd1dc70-3323-4675-ee6d-9c16f4fed807"
      },
      "outputs": [
        {
          "name": "stdout",
          "output_type": "stream",
          "text": [
            "The data has 37249 rows and 2 columns\n"
          ]
        }
      ],
      "source": [
        "# shape of the data\n",
        "\n",
        "data_rows, data_cols = df.shape\n",
        "print(f'The data has {data_rows} rows and {data_cols} columns')"
      ]
    },
    {
      "cell_type": "code",
      "execution_count": 50,
      "id": "8c03e86d-60d3-4d3d-bf62-67cd4003fbe5",
      "metadata": {
        "colab": {
          "base_uri": "https://localhost:8080/",
          "height": 458
        },
        "id": "8c03e86d-60d3-4d3d-bf62-67cd4003fbe5",
        "outputId": "9413bbf4-c988-4285-927a-6c8298554b39"
      },
      "outputs": [
        {
          "data": {
            "text/plain": [
              "51        tea partier expresses support for namo after ...\n",
              "68           can congress eliminate namo and blame advani \n",
              "69        don know but surely there his statue every bj...\n",
              "70       after seeing this uvjx3kwoehw video seems anyt...\n",
              "72       congress needs bogeyman modi without the bad g...\n",
              "                               ...                        \n",
              "37210                                      modi april fool\n",
              "37228    also modiji will give award ravish kumar tonight \n",
              "37236     fan modi but some the best people ever met li...\n",
              "37245    kya bhai pure saal chutiya banaya modi aur jab...\n",
              "37248               facebook itself now working bjp’ cell \n",
              "Name: comment, Length: 7055, dtype: object"
            ]
          },
          "execution_count": 50,
          "metadata": {},
          "output_type": "execute_result"
        }
      ],
      "source": [
        "# comments having words like modi,bjp and congress\n",
        "\n",
        "(\n",
        "    df\n",
        "    .dropna()\n",
        "    .loc[(lambda df_: df_['comment'].str.contains(r\"bjp|congress|modi\")),\"comment\"]\n",
        ")"
      ]
    },
    {
      "cell_type": "code",
      "execution_count": 51,
      "id": "11aefd42-2d1c-44dd-925b-035477af03c4",
      "metadata": {
        "colab": {
          "base_uri": "https://localhost:8080/"
        },
        "id": "11aefd42-2d1c-44dd-925b-035477af03c4",
        "outputId": "7b6fca72-dcfc-4374-9cf5-5830b30207c8"
      },
      "outputs": [
        {
          "name": "stdout",
          "output_type": "stream",
          "text": [
            "18.991089935126112\n"
          ]
        }
      ],
      "source": [
        "# distribution of such comments\n",
        "\n",
        "print(\n",
        "      df['comment']\n",
        "      .dropna()\n",
        "      .str.contains(r\"bjp|congress|modi\")\n",
        "      .mean() * 100\n",
        "    )"
      ]
    },
    {
      "cell_type": "markdown",
      "id": "7395f32c-1d33-4be8-8e12-d2c514a76068",
      "metadata": {
        "id": "7395f32c-1d33-4be8-8e12-d2c514a76068"
      },
      "source": [
        "# Data Cleaning"
      ]
    },
    {
      "cell_type": "code",
      "execution_count": 52,
      "id": "5ef89344",
      "metadata": {},
      "outputs": [
        {
          "name": "stderr",
          "output_type": "stream",
          "text": [
            "[nltk_data] Downloading package punkt to C:\\Users\\Sagar\n",
            "[nltk_data]     Nikam\\AppData\\Roaming\\nltk_data...\n",
            "[nltk_data]   Package punkt is already up-to-date!\n",
            "[nltk_data] Downloading package stopwords to C:\\Users\\Sagar\n",
            "[nltk_data]     Nikam\\AppData\\Roaming\\nltk_data...\n",
            "[nltk_data]   Package stopwords is already up-to-date!\n"
          ]
        },
        {
          "data": {
            "text/plain": [
              "True"
            ]
          },
          "execution_count": 52,
          "metadata": {},
          "output_type": "execute_result"
        }
      ],
      "source": [
        "import nltk\n",
        "nltk.download('punkt')\n",
        "nltk.download('stopwords')\n"
      ]
    },
    {
      "cell_type": "code",
      "execution_count": 53,
      "id": "45665027-4400-42b6-9dd5-9f09592653f5",
      "metadata": {
        "colab": {
          "base_uri": "https://localhost:8080/"
        },
        "id": "45665027-4400-42b6-9dd5-9f09592653f5",
        "outputId": "cf81b906-4667-4532-f838-1017c7b0b3f0"
      },
      "outputs": [
        {
          "data": {
            "text/plain": [
              "2"
            ]
          },
          "execution_count": 53,
          "metadata": {},
          "output_type": "execute_result"
        }
      ],
      "source": [
        "len(df.loc[14037,'comment'].split())"
      ]
    },
    {
      "cell_type": "code",
      "execution_count": 54,
      "id": "fc82fdfe-b7dc-4762-8685-14ce10c32f87",
      "metadata": {
        "id": "fc82fdfe-b7dc-4762-8685-14ce10c32f87"
      },
      "outputs": [],
      "source": [
        "def remove_whitespaces(ser):\n",
        "    return ser.str.lstrip().str.rstrip()\n",
        "\n",
        "def count_words(text):\n",
        "    return len(text.split(\" \"))\n",
        "\n",
        "def removing_numbers(text):\n",
        "    text=''.join([i for i in text if not i.isdigit()])\n",
        "    return text\n",
        "\n",
        "def removing_punctuations(text):\n",
        "    ## Remove punctuations\n",
        "    text = re.sub('[%s]' % re.escape(\"\"\"!\"#$%&'()*+,،-./:;<=>؟?@[\\\\]^_`{|}~\"\"\"), ' ', text)\n",
        "    text = text.replace('؛',\"\", )\n",
        "    return text\n",
        "\n",
        "def removing_urls(text):\n",
        "    url_pattern = re.compile(r'https?://\\S+|www\\.\\S+')\n",
        "    return url_pattern.sub(r'', text)\n",
        "\n",
        "def clean_text(text):\n",
        "    text = removing_numbers(text)\n",
        "    text = removing_punctuations(text)\n",
        "    text = removing_urls(text)\n",
        "    return text\n",
        "\n",
        "def sentence_length(ser):\n",
        "    bins = [0,10, 25, 50, ser.max()]\n",
        "    labels = ['Short', 'Medium', 'Long', 'Very Long']\n",
        "    return pd.cut(ser,bins=bins,labels=labels)\n",
        "\n",
        "def is_response(ser):\n",
        "    return np.where(ser <= 3, 1, 0)\n",
        "\n",
        "def remove_stopwords(text):\n",
        "    stop_words = set(stopwords.words('english'))\n",
        "    word_tokens = word_tokenize(text)\n",
        "    filtered_sentence = [w for w in word_tokens if not w.lower() in stop_words]\n",
        "    return \" \".join(filtered_sentence)\n",
        "\n",
        "def lemmatize(text):\n",
        "    lemma = WordNetLemmatizer()\n",
        "    text = [lemma.lemmatize(word) for word in text.split(\" \")]\n",
        "    return \" \".join(text)\n"
      ]
    },
    {
      "cell_type": "code",
      "execution_count": 55,
      "id": "b371d40b-7db6-45e7-abd6-7482f3a0599f",
      "metadata": {
        "id": "b371d40b-7db6-45e7-abd6-7482f3a0599f"
      },
      "outputs": [],
      "source": [
        "def remove_emoji(text):\n",
        "    # Regex pattern to match all emoji characters\n",
        "    emoji_pattern = re.compile(\"[\"\n",
        "        u\"\\U0001F600-\\U0001F64F\"  # Emoticons\n",
        "        u\"\\U0001F300-\\U0001F5FF\"  # Symbols & pictographs\n",
        "        u\"\\U0001F680-\\U0001F6FF\"  # Transport & map symbols\n",
        "        u\"\\U0001F700-\\U0001F77F\"  # Alchemical symbols\n",
        "        u\"\\U0001F780-\\U0001F7FF\"  # Geometric shapes extended\n",
        "        u\"\\U0001F800-\\U0001F8FF\"  # Supplemental arrows-C\n",
        "        u\"\\U0001F900-\\U0001F9FF\"  # Supplemental symbols and pictographs\n",
        "        u\"\\U0001FA00-\\U0001FA6F\"  # Chess symbols\n",
        "        u\"\\U0001FA70-\\U0001FAFF\"  # Symbols and pictographs extended-A\n",
        "        \"]+\", flags=re.UNICODE)\n",
        "    return emoji_pattern.sub(r'', text)\n",
        "\n",
        "def remove_non_ascii(text):\n",
        "    # Remove all non-ASCII characters\n",
        "    return re.sub(r'[^\\x00-\\x7F]+', '', text)\n",
        "\n",
        "def remove_chinese(text):\n",
        "    # Regex to remove Chinese characters (CJK Unified Ideographs)\n",
        "    return re.sub(r'[\\u4e00-\\u9fff]+', '', text)\n",
        "\n",
        "def clean_unicode_text(text):\n",
        "    # Apply all cleaning functions\n",
        "    text = remove_emoji(text)\n",
        "    text = remove_chinese(text)\n",
        "    text = remove_non_ascii(text)\n",
        "    return text"
      ]
    },
    {
      "cell_type": "code",
      "execution_count": 56,
      "id": "80a8054b-9c94-4c7b-ac25-47616e382c60",
      "metadata": {
        "colab": {
          "base_uri": "https://localhost:8080/",
          "height": 458
        },
        "id": "80a8054b-9c94-4c7b-ac25-47616e382c60",
        "outputId": "aa0dd0dc-da43-4621-ed32-4eeb86bb0e92"
      },
      "outputs": [
        {
          "data": {
            "text/plain": [
              "0         41\n",
              "1        197\n",
              "2         87\n",
              "3         30\n",
              "4        113\n",
              "        ... \n",
              "37244      1\n",
              "37245     19\n",
              "37246      8\n",
              "37247      3\n",
              "37248      7\n",
              "Name: comment, Length: 37149, dtype: int64"
            ]
          },
          "execution_count": 56,
          "metadata": {},
          "output_type": "execute_result"
        }
      ],
      "source": [
        "df['comment'].dropna().apply(count_words)"
      ]
    },
    {
      "cell_type": "code",
      "execution_count": 57,
      "id": "d5e99be9-6246-4f8c-aad4-1d727cb8bb2c",
      "metadata": {
        "id": "d5e99be9-6246-4f8c-aad4-1d727cb8bb2c"
      },
      "outputs": [],
      "source": [
        "def count_pos_tags(text):\n",
        "    tokens = nltk.word_tokenize(text)\n",
        "    pos_tags = nltk.pos_tag(tokens)\n",
        "\n",
        "    # Define POS categories\n",
        "    nouns = ['NN', 'NNS', 'NNP', 'NNPS']\n",
        "    verbs = ['VB', 'VBD', 'VBG', 'VBN', 'VBP', 'VBZ']\n",
        "    adjectives = ['JJ', 'JJR', 'JJS']\n",
        "\n",
        "    # Count the POS tags\n",
        "    pos_counts = Counter(tag for word, tag in pos_tags)\n",
        "\n",
        "    num_nouns = sum(pos_counts[pos] for pos in nouns)\n",
        "    num_verbs = sum(pos_counts[pos] for pos in verbs)\n",
        "    num_adjectives = sum(pos_counts[pos] for pos in adjectives)\n",
        "    return pd.Series({'nouns': num_nouns, 'verbs': num_verbs, 'adjectives': num_adjectives})"
      ]
    },
    {
      "cell_type": "code",
      "execution_count": 58,
      "id": "4c12b6d8-ace3-43cf-9b96-4d2cdfca5054",
      "metadata": {
        "id": "4c12b6d8-ace3-43cf-9b96-4d2cdfca5054"
      },
      "outputs": [],
      "source": [
        "def clean_data(data):\n",
        "\n",
        "    return (\n",
        "        data\n",
        "        .dropna()\n",
        "        .drop_duplicates(subset=['comment'])\n",
        "        .assign(\n",
        "            comment = lambda df_: df_.loc[:,\"comment\"].apply(clean_text)\n",
        "        )\n",
        "        .assign(\n",
        "            comment = lambda df_: df_.loc[:,\"comment\"].str.lstrip().str.rstrip().str.lower(),\n",
        "            word_count = lambda df_: df_.loc[:,\"comment\"].apply(count_words),\n",
        "            named_sentiment = lambda df_: df_.loc[:,\"sentiment\"].replace({0:\"neutral\",\n",
        "                                                                         -1:\"negative\",\n",
        "                                                                          1:\"positive\"}),\n",
        "            sentence_length = lambda df_: df_.loc[:,\"word_count\"].pipe(sentence_length),\n",
        "            response = lambda df_: df_.loc[:,\"word_count\"].pipe(is_response)\n",
        "        )\n",
        "        .assign(\n",
        "            comment = lambda df_: df_.loc[:,\"comment\"].apply(removing_punctuations)\n",
        "        )\n",
        "        .assign(\n",
        "            comment = lambda df_: df_.loc[:,\"comment\"].apply(clean_unicode_text)\n",
        "        )\n",
        "        .assign(\n",
        "            comment = lambda df_: df_.loc[:,\"comment\"].apply(remove_stopwords)\n",
        "        )\n",
        "        .assign(\n",
        "            comment = lambda df_: df_.loc[:,\"comment\"].apply(lemmatize)\n",
        "        )\n",
        "        .loc[lambda df_: ~(df_['comment'].str.contains(r\"bjp|congress|modi\")),:]\n",
        "    )"
      ]
    },
    {
      "cell_type": "code",
      "execution_count": 59,
      "id": "f1aed645-3ccc-43a8-b5d0-3f09be0ec9f8",
      "metadata": {
        "colab": {
          "base_uri": "https://localhost:8080/",
          "height": 1000
        },
        "id": "f1aed645-3ccc-43a8-b5d0-3f09be0ec9f8",
        "outputId": "e2c435f7-922a-4524-8843-dc7ec7fe7d1f"
      },
      "outputs": [
        {
          "ename": "LookupError",
          "evalue": "\n**********************************************************************\n  Resource \u001b[93mpunkt_tab\u001b[0m not found.\n  Please use the NLTK Downloader to obtain the resource:\n\n  \u001b[31m>>> import nltk\n  >>> nltk.download('punkt_tab')\n  \u001b[0m\n  For more information see: https://www.nltk.org/data.html\n\n  Attempted to load \u001b[93mtokenizers/punkt_tab/english/\u001b[0m\n\n  Searched in:\n    - 'C:\\\\Users\\\\Sagar Nikam/nltk_data'\n    - 'd:\\\\Influencer-Insights-Chrome-Plugin\\\\.venv\\\\nltk_data'\n    - 'd:\\\\Influencer-Insights-Chrome-Plugin\\\\.venv\\\\share\\\\nltk_data'\n    - 'd:\\\\Influencer-Insights-Chrome-Plugin\\\\.venv\\\\lib\\\\nltk_data'\n    - 'C:\\\\Users\\\\Sagar Nikam\\\\AppData\\\\Roaming\\\\nltk_data'\n    - 'C:\\\\nltk_data'\n    - 'D:\\\\nltk_data'\n    - 'E:\\\\nltk_data'\n**********************************************************************\n",
          "output_type": "error",
          "traceback": [
            "\u001b[31m---------------------------------------------------------------------------\u001b[39m",
            "\u001b[31mLookupError\u001b[39m                               Traceback (most recent call last)",
            "\u001b[36mCell\u001b[39m\u001b[36m \u001b[39m\u001b[32mIn[59]\u001b[39m\u001b[32m, line 1\u001b[39m\n\u001b[32m----> \u001b[39m\u001b[32m1\u001b[39m final_df = \u001b[43mclean_data\u001b[49m\u001b[43m(\u001b[49m\u001b[43mdf\u001b[49m\u001b[43m)\u001b[49m\n",
            "\u001b[36mCell\u001b[39m\u001b[36m \u001b[39m\u001b[32mIn[58]\u001b[39m\u001b[32m, line 25\u001b[39m, in \u001b[36mclean_data\u001b[39m\u001b[34m(data)\u001b[39m\n\u001b[32m      1\u001b[39m \u001b[38;5;28;01mdef\u001b[39;00m\u001b[38;5;250m \u001b[39m\u001b[34mclean_data\u001b[39m(data):\n\u001b[32m      3\u001b[39m     \u001b[38;5;28;01mreturn\u001b[39;00m (\n\u001b[32m      4\u001b[39m         \u001b[43mdata\u001b[49m\n\u001b[32m      5\u001b[39m \u001b[43m        \u001b[49m\u001b[43m.\u001b[49m\u001b[43mdropna\u001b[49m\u001b[43m(\u001b[49m\u001b[43m)\u001b[49m\n\u001b[32m      6\u001b[39m \u001b[43m        \u001b[49m\u001b[43m.\u001b[49m\u001b[43mdrop_duplicates\u001b[49m\u001b[43m(\u001b[49m\u001b[43msubset\u001b[49m\u001b[43m=\u001b[49m\u001b[43m[\u001b[49m\u001b[33;43m'\u001b[39;49m\u001b[33;43mcomment\u001b[39;49m\u001b[33;43m'\u001b[39;49m\u001b[43m]\u001b[49m\u001b[43m)\u001b[49m\n\u001b[32m      7\u001b[39m \u001b[43m        \u001b[49m\u001b[43m.\u001b[49m\u001b[43massign\u001b[49m\u001b[43m(\u001b[49m\n\u001b[32m      8\u001b[39m \u001b[43m            \u001b[49m\u001b[43mcomment\u001b[49m\u001b[43m \u001b[49m\u001b[43m=\u001b[49m\u001b[43m \u001b[49m\u001b[38;5;28;43;01mlambda\u001b[39;49;00m\u001b[43m \u001b[49m\u001b[43mdf_\u001b[49m\u001b[43m:\u001b[49m\u001b[43m \u001b[49m\u001b[43mdf_\u001b[49m\u001b[43m.\u001b[49m\u001b[43mloc\u001b[49m\u001b[43m[\u001b[49m\u001b[43m:\u001b[49m\u001b[43m,\u001b[49m\u001b[33;43m\"\u001b[39;49m\u001b[33;43mcomment\u001b[39;49m\u001b[33;43m\"\u001b[39;49m\u001b[43m]\u001b[49m\u001b[43m.\u001b[49m\u001b[43mapply\u001b[49m\u001b[43m(\u001b[49m\u001b[43mclean_text\u001b[49m\u001b[43m)\u001b[49m\n\u001b[32m      9\u001b[39m \u001b[43m        \u001b[49m\u001b[43m)\u001b[49m\n\u001b[32m     10\u001b[39m \u001b[43m        \u001b[49m\u001b[43m.\u001b[49m\u001b[43massign\u001b[49m\u001b[43m(\u001b[49m\n\u001b[32m     11\u001b[39m \u001b[43m            \u001b[49m\u001b[43mcomment\u001b[49m\u001b[43m \u001b[49m\u001b[43m=\u001b[49m\u001b[43m \u001b[49m\u001b[38;5;28;43;01mlambda\u001b[39;49;00m\u001b[43m \u001b[49m\u001b[43mdf_\u001b[49m\u001b[43m:\u001b[49m\u001b[43m \u001b[49m\u001b[43mdf_\u001b[49m\u001b[43m.\u001b[49m\u001b[43mloc\u001b[49m\u001b[43m[\u001b[49m\u001b[43m:\u001b[49m\u001b[43m,\u001b[49m\u001b[33;43m\"\u001b[39;49m\u001b[33;43mcomment\u001b[39;49m\u001b[33;43m\"\u001b[39;49m\u001b[43m]\u001b[49m\u001b[43m.\u001b[49m\u001b[43mstr\u001b[49m\u001b[43m.\u001b[49m\u001b[43mlstrip\u001b[49m\u001b[43m(\u001b[49m\u001b[43m)\u001b[49m\u001b[43m.\u001b[49m\u001b[43mstr\u001b[49m\u001b[43m.\u001b[49m\u001b[43mrstrip\u001b[49m\u001b[43m(\u001b[49m\u001b[43m)\u001b[49m\u001b[43m.\u001b[49m\u001b[43mstr\u001b[49m\u001b[43m.\u001b[49m\u001b[43mlower\u001b[49m\u001b[43m(\u001b[49m\u001b[43m)\u001b[49m\u001b[43m,\u001b[49m\n\u001b[32m     12\u001b[39m \u001b[43m            \u001b[49m\u001b[43mword_count\u001b[49m\u001b[43m \u001b[49m\u001b[43m=\u001b[49m\u001b[43m \u001b[49m\u001b[38;5;28;43;01mlambda\u001b[39;49;00m\u001b[43m \u001b[49m\u001b[43mdf_\u001b[49m\u001b[43m:\u001b[49m\u001b[43m \u001b[49m\u001b[43mdf_\u001b[49m\u001b[43m.\u001b[49m\u001b[43mloc\u001b[49m\u001b[43m[\u001b[49m\u001b[43m:\u001b[49m\u001b[43m,\u001b[49m\u001b[33;43m\"\u001b[39;49m\u001b[33;43mcomment\u001b[39;49m\u001b[33;43m\"\u001b[39;49m\u001b[43m]\u001b[49m\u001b[43m.\u001b[49m\u001b[43mapply\u001b[49m\u001b[43m(\u001b[49m\u001b[43mcount_words\u001b[49m\u001b[43m)\u001b[49m\u001b[43m,\u001b[49m\n\u001b[32m     13\u001b[39m \u001b[43m            \u001b[49m\u001b[43mnamed_sentiment\u001b[49m\u001b[43m \u001b[49m\u001b[43m=\u001b[49m\u001b[43m \u001b[49m\u001b[38;5;28;43;01mlambda\u001b[39;49;00m\u001b[43m \u001b[49m\u001b[43mdf_\u001b[49m\u001b[43m:\u001b[49m\u001b[43m \u001b[49m\u001b[43mdf_\u001b[49m\u001b[43m.\u001b[49m\u001b[43mloc\u001b[49m\u001b[43m[\u001b[49m\u001b[43m:\u001b[49m\u001b[43m,\u001b[49m\u001b[33;43m\"\u001b[39;49m\u001b[33;43msentiment\u001b[39;49m\u001b[33;43m\"\u001b[39;49m\u001b[43m]\u001b[49m\u001b[43m.\u001b[49m\u001b[43mreplace\u001b[49m\u001b[43m(\u001b[49m\u001b[43m{\u001b[49m\u001b[32;43m0\u001b[39;49m\u001b[43m:\u001b[49m\u001b[33;43m\"\u001b[39;49m\u001b[33;43mneutral\u001b[39;49m\u001b[33;43m\"\u001b[39;49m\u001b[43m,\u001b[49m\n\u001b[32m     14\u001b[39m \u001b[43m                                                                         \u001b[49m\u001b[43m-\u001b[49m\u001b[32;43m1\u001b[39;49m\u001b[43m:\u001b[49m\u001b[33;43m\"\u001b[39;49m\u001b[33;43mnegative\u001b[39;49m\u001b[33;43m\"\u001b[39;49m\u001b[43m,\u001b[49m\n\u001b[32m     15\u001b[39m \u001b[43m                                                                          \u001b[49m\u001b[32;43m1\u001b[39;49m\u001b[43m:\u001b[49m\u001b[33;43m\"\u001b[39;49m\u001b[33;43mpositive\u001b[39;49m\u001b[33;43m\"\u001b[39;49m\u001b[43m}\u001b[49m\u001b[43m)\u001b[49m\u001b[43m,\u001b[49m\n\u001b[32m     16\u001b[39m \u001b[43m            \u001b[49m\u001b[43msentence_length\u001b[49m\u001b[43m \u001b[49m\u001b[43m=\u001b[49m\u001b[43m \u001b[49m\u001b[38;5;28;43;01mlambda\u001b[39;49;00m\u001b[43m \u001b[49m\u001b[43mdf_\u001b[49m\u001b[43m:\u001b[49m\u001b[43m \u001b[49m\u001b[43mdf_\u001b[49m\u001b[43m.\u001b[49m\u001b[43mloc\u001b[49m\u001b[43m[\u001b[49m\u001b[43m:\u001b[49m\u001b[43m,\u001b[49m\u001b[33;43m\"\u001b[39;49m\u001b[33;43mword_count\u001b[39;49m\u001b[33;43m\"\u001b[39;49m\u001b[43m]\u001b[49m\u001b[43m.\u001b[49m\u001b[43mpipe\u001b[49m\u001b[43m(\u001b[49m\u001b[43msentence_length\u001b[49m\u001b[43m)\u001b[49m\u001b[43m,\u001b[49m\n\u001b[32m     17\u001b[39m \u001b[43m            \u001b[49m\u001b[43mresponse\u001b[49m\u001b[43m \u001b[49m\u001b[43m=\u001b[49m\u001b[43m \u001b[49m\u001b[38;5;28;43;01mlambda\u001b[39;49;00m\u001b[43m \u001b[49m\u001b[43mdf_\u001b[49m\u001b[43m:\u001b[49m\u001b[43m \u001b[49m\u001b[43mdf_\u001b[49m\u001b[43m.\u001b[49m\u001b[43mloc\u001b[49m\u001b[43m[\u001b[49m\u001b[43m:\u001b[49m\u001b[43m,\u001b[49m\u001b[33;43m\"\u001b[39;49m\u001b[33;43mword_count\u001b[39;49m\u001b[33;43m\"\u001b[39;49m\u001b[43m]\u001b[49m\u001b[43m.\u001b[49m\u001b[43mpipe\u001b[49m\u001b[43m(\u001b[49m\u001b[43mis_response\u001b[49m\u001b[43m)\u001b[49m\n\u001b[32m     18\u001b[39m \u001b[43m        \u001b[49m\u001b[43m)\u001b[49m\n\u001b[32m     19\u001b[39m \u001b[43m        \u001b[49m\u001b[43m.\u001b[49m\u001b[43massign\u001b[49m\u001b[43m(\u001b[49m\n\u001b[32m     20\u001b[39m \u001b[43m            \u001b[49m\u001b[43mcomment\u001b[49m\u001b[43m \u001b[49m\u001b[43m=\u001b[49m\u001b[43m \u001b[49m\u001b[38;5;28;43;01mlambda\u001b[39;49;00m\u001b[43m \u001b[49m\u001b[43mdf_\u001b[49m\u001b[43m:\u001b[49m\u001b[43m \u001b[49m\u001b[43mdf_\u001b[49m\u001b[43m.\u001b[49m\u001b[43mloc\u001b[49m\u001b[43m[\u001b[49m\u001b[43m:\u001b[49m\u001b[43m,\u001b[49m\u001b[33;43m\"\u001b[39;49m\u001b[33;43mcomment\u001b[39;49m\u001b[33;43m\"\u001b[39;49m\u001b[43m]\u001b[49m\u001b[43m.\u001b[49m\u001b[43mapply\u001b[49m\u001b[43m(\u001b[49m\u001b[43mremoving_punctuations\u001b[49m\u001b[43m)\u001b[49m\n\u001b[32m     21\u001b[39m \u001b[43m        \u001b[49m\u001b[43m)\u001b[49m\n\u001b[32m     22\u001b[39m \u001b[43m        \u001b[49m\u001b[43m.\u001b[49m\u001b[43massign\u001b[49m\u001b[43m(\u001b[49m\n\u001b[32m     23\u001b[39m \u001b[43m            \u001b[49m\u001b[43mcomment\u001b[49m\u001b[43m \u001b[49m\u001b[43m=\u001b[49m\u001b[43m \u001b[49m\u001b[38;5;28;43;01mlambda\u001b[39;49;00m\u001b[43m \u001b[49m\u001b[43mdf_\u001b[49m\u001b[43m:\u001b[49m\u001b[43m \u001b[49m\u001b[43mdf_\u001b[49m\u001b[43m.\u001b[49m\u001b[43mloc\u001b[49m\u001b[43m[\u001b[49m\u001b[43m:\u001b[49m\u001b[43m,\u001b[49m\u001b[33;43m\"\u001b[39;49m\u001b[33;43mcomment\u001b[39;49m\u001b[33;43m\"\u001b[39;49m\u001b[43m]\u001b[49m\u001b[43m.\u001b[49m\u001b[43mapply\u001b[49m\u001b[43m(\u001b[49m\u001b[43mclean_unicode_text\u001b[49m\u001b[43m)\u001b[49m\n\u001b[32m     24\u001b[39m \u001b[43m        \u001b[49m\u001b[43m)\u001b[49m\n\u001b[32m---> \u001b[39m\u001b[32m25\u001b[39m \u001b[43m        \u001b[49m\u001b[43m.\u001b[49m\u001b[43massign\u001b[49m\u001b[43m(\u001b[49m\n\u001b[32m     26\u001b[39m \u001b[43m            \u001b[49m\u001b[43mcomment\u001b[49m\u001b[43m \u001b[49m\u001b[43m=\u001b[49m\u001b[43m \u001b[49m\u001b[38;5;28;43;01mlambda\u001b[39;49;00m\u001b[43m \u001b[49m\u001b[43mdf_\u001b[49m\u001b[43m:\u001b[49m\u001b[43m \u001b[49m\u001b[43mdf_\u001b[49m\u001b[43m.\u001b[49m\u001b[43mloc\u001b[49m\u001b[43m[\u001b[49m\u001b[43m:\u001b[49m\u001b[43m,\u001b[49m\u001b[33;43m\"\u001b[39;49m\u001b[33;43mcomment\u001b[39;49m\u001b[33;43m\"\u001b[39;49m\u001b[43m]\u001b[49m\u001b[43m.\u001b[49m\u001b[43mapply\u001b[49m\u001b[43m(\u001b[49m\u001b[43mremove_stopwords\u001b[49m\u001b[43m)\u001b[49m\n\u001b[32m     27\u001b[39m \u001b[43m        \u001b[49m\u001b[43m)\u001b[49m\n\u001b[32m     28\u001b[39m         .assign(\n\u001b[32m     29\u001b[39m             comment = \u001b[38;5;28;01mlambda\u001b[39;00m df_: df_.loc[:,\u001b[33m\"\u001b[39m\u001b[33mcomment\u001b[39m\u001b[33m\"\u001b[39m].apply(lemmatize)\n\u001b[32m     30\u001b[39m         )\n\u001b[32m     31\u001b[39m         .loc[\u001b[38;5;28;01mlambda\u001b[39;00m df_: ~(df_[\u001b[33m'\u001b[39m\u001b[33mcomment\u001b[39m\u001b[33m'\u001b[39m].str.contains(\u001b[33mr\u001b[39m\u001b[33m\"\u001b[39m\u001b[33mbjp|congress|modi\u001b[39m\u001b[33m\"\u001b[39m)),:]\n\u001b[32m     32\u001b[39m     )\n",
            "\u001b[36mFile \u001b[39m\u001b[32md:\\Influencer-Insights-Chrome-Plugin\\.venv\\Lib\\site-packages\\pandas\\core\\frame.py:5239\u001b[39m, in \u001b[36mDataFrame.assign\u001b[39m\u001b[34m(self, **kwargs)\u001b[39m\n\u001b[32m   5236\u001b[39m data = \u001b[38;5;28mself\u001b[39m.copy(deep=\u001b[38;5;28;01mNone\u001b[39;00m)\n\u001b[32m   5238\u001b[39m \u001b[38;5;28;01mfor\u001b[39;00m k, v \u001b[38;5;129;01min\u001b[39;00m kwargs.items():\n\u001b[32m-> \u001b[39m\u001b[32m5239\u001b[39m     data[k] = \u001b[43mcom\u001b[49m\u001b[43m.\u001b[49m\u001b[43mapply_if_callable\u001b[49m\u001b[43m(\u001b[49m\u001b[43mv\u001b[49m\u001b[43m,\u001b[49m\u001b[43m \u001b[49m\u001b[43mdata\u001b[49m\u001b[43m)\u001b[49m\n\u001b[32m   5240\u001b[39m \u001b[38;5;28;01mreturn\u001b[39;00m data\n",
            "\u001b[36mFile \u001b[39m\u001b[32md:\\Influencer-Insights-Chrome-Plugin\\.venv\\Lib\\site-packages\\pandas\\core\\common.py:384\u001b[39m, in \u001b[36mapply_if_callable\u001b[39m\u001b[34m(maybe_callable, obj, **kwargs)\u001b[39m\n\u001b[32m    373\u001b[39m \u001b[38;5;250m\u001b[39m\u001b[33;03m\"\"\"\u001b[39;00m\n\u001b[32m    374\u001b[39m \u001b[33;03mEvaluate possibly callable input using obj and kwargs if it is callable,\u001b[39;00m\n\u001b[32m    375\u001b[39m \u001b[33;03motherwise return as it is.\u001b[39;00m\n\u001b[32m   (...)\u001b[39m\u001b[32m    381\u001b[39m \u001b[33;03m**kwargs\u001b[39;00m\n\u001b[32m    382\u001b[39m \u001b[33;03m\"\"\"\u001b[39;00m\n\u001b[32m    383\u001b[39m \u001b[38;5;28;01mif\u001b[39;00m \u001b[38;5;28mcallable\u001b[39m(maybe_callable):\n\u001b[32m--> \u001b[39m\u001b[32m384\u001b[39m     \u001b[38;5;28;01mreturn\u001b[39;00m \u001b[43mmaybe_callable\u001b[49m\u001b[43m(\u001b[49m\u001b[43mobj\u001b[49m\u001b[43m,\u001b[49m\u001b[43m \u001b[49m\u001b[43m*\u001b[49m\u001b[43m*\u001b[49m\u001b[43mkwargs\u001b[49m\u001b[43m)\u001b[49m\n\u001b[32m    386\u001b[39m \u001b[38;5;28;01mreturn\u001b[39;00m maybe_callable\n",
            "\u001b[36mCell\u001b[39m\u001b[36m \u001b[39m\u001b[32mIn[58]\u001b[39m\u001b[32m, line 26\u001b[39m, in \u001b[36mclean_data.<locals>.<lambda>\u001b[39m\u001b[34m(df_)\u001b[39m\n\u001b[32m      1\u001b[39m \u001b[38;5;28;01mdef\u001b[39;00m\u001b[38;5;250m \u001b[39m\u001b[34mclean_data\u001b[39m(data):\n\u001b[32m      3\u001b[39m     \u001b[38;5;28;01mreturn\u001b[39;00m (\n\u001b[32m      4\u001b[39m         data\n\u001b[32m      5\u001b[39m         .dropna()\n\u001b[32m      6\u001b[39m         .drop_duplicates(subset=[\u001b[33m'\u001b[39m\u001b[33mcomment\u001b[39m\u001b[33m'\u001b[39m])\n\u001b[32m      7\u001b[39m         .assign(\n\u001b[32m      8\u001b[39m             comment = \u001b[38;5;28;01mlambda\u001b[39;00m df_: df_.loc[:,\u001b[33m\"\u001b[39m\u001b[33mcomment\u001b[39m\u001b[33m\"\u001b[39m].apply(clean_text)\n\u001b[32m      9\u001b[39m         )\n\u001b[32m     10\u001b[39m         .assign(\n\u001b[32m     11\u001b[39m             comment = \u001b[38;5;28;01mlambda\u001b[39;00m df_: df_.loc[:,\u001b[33m\"\u001b[39m\u001b[33mcomment\u001b[39m\u001b[33m\"\u001b[39m].str.lstrip().str.rstrip().str.lower(),\n\u001b[32m     12\u001b[39m             word_count = \u001b[38;5;28;01mlambda\u001b[39;00m df_: df_.loc[:,\u001b[33m\"\u001b[39m\u001b[33mcomment\u001b[39m\u001b[33m\"\u001b[39m].apply(count_words),\n\u001b[32m     13\u001b[39m             named_sentiment = \u001b[38;5;28;01mlambda\u001b[39;00m df_: df_.loc[:,\u001b[33m\"\u001b[39m\u001b[33msentiment\u001b[39m\u001b[33m\"\u001b[39m].replace({\u001b[32m0\u001b[39m:\u001b[33m\"\u001b[39m\u001b[33mneutral\u001b[39m\u001b[33m\"\u001b[39m,\n\u001b[32m     14\u001b[39m                                                                          -\u001b[32m1\u001b[39m:\u001b[33m\"\u001b[39m\u001b[33mnegative\u001b[39m\u001b[33m\"\u001b[39m,\n\u001b[32m     15\u001b[39m                                                                           \u001b[32m1\u001b[39m:\u001b[33m\"\u001b[39m\u001b[33mpositive\u001b[39m\u001b[33m\"\u001b[39m}),\n\u001b[32m     16\u001b[39m             sentence_length = \u001b[38;5;28;01mlambda\u001b[39;00m df_: df_.loc[:,\u001b[33m\"\u001b[39m\u001b[33mword_count\u001b[39m\u001b[33m\"\u001b[39m].pipe(sentence_length),\n\u001b[32m     17\u001b[39m             response = \u001b[38;5;28;01mlambda\u001b[39;00m df_: df_.loc[:,\u001b[33m\"\u001b[39m\u001b[33mword_count\u001b[39m\u001b[33m\"\u001b[39m].pipe(is_response)\n\u001b[32m     18\u001b[39m         )\n\u001b[32m     19\u001b[39m         .assign(\n\u001b[32m     20\u001b[39m             comment = \u001b[38;5;28;01mlambda\u001b[39;00m df_: df_.loc[:,\u001b[33m\"\u001b[39m\u001b[33mcomment\u001b[39m\u001b[33m\"\u001b[39m].apply(removing_punctuations)\n\u001b[32m     21\u001b[39m         )\n\u001b[32m     22\u001b[39m         .assign(\n\u001b[32m     23\u001b[39m             comment = \u001b[38;5;28;01mlambda\u001b[39;00m df_: df_.loc[:,\u001b[33m\"\u001b[39m\u001b[33mcomment\u001b[39m\u001b[33m\"\u001b[39m].apply(clean_unicode_text)\n\u001b[32m     24\u001b[39m         )\n\u001b[32m     25\u001b[39m         .assign(\n\u001b[32m---> \u001b[39m\u001b[32m26\u001b[39m             comment = \u001b[38;5;28;01mlambda\u001b[39;00m df_: \u001b[43mdf_\u001b[49m\u001b[43m.\u001b[49m\u001b[43mloc\u001b[49m\u001b[43m[\u001b[49m\u001b[43m:\u001b[49m\u001b[43m,\u001b[49m\u001b[33;43m\"\u001b[39;49m\u001b[33;43mcomment\u001b[39;49m\u001b[33;43m\"\u001b[39;49m\u001b[43m]\u001b[49m\u001b[43m.\u001b[49m\u001b[43mapply\u001b[49m\u001b[43m(\u001b[49m\u001b[43mremove_stopwords\u001b[49m\u001b[43m)\u001b[49m\n\u001b[32m     27\u001b[39m         )\n\u001b[32m     28\u001b[39m         .assign(\n\u001b[32m     29\u001b[39m             comment = \u001b[38;5;28;01mlambda\u001b[39;00m df_: df_.loc[:,\u001b[33m\"\u001b[39m\u001b[33mcomment\u001b[39m\u001b[33m\"\u001b[39m].apply(lemmatize)\n\u001b[32m     30\u001b[39m         )\n\u001b[32m     31\u001b[39m         .loc[\u001b[38;5;28;01mlambda\u001b[39;00m df_: ~(df_[\u001b[33m'\u001b[39m\u001b[33mcomment\u001b[39m\u001b[33m'\u001b[39m].str.contains(\u001b[33mr\u001b[39m\u001b[33m\"\u001b[39m\u001b[33mbjp|congress|modi\u001b[39m\u001b[33m\"\u001b[39m)),:]\n\u001b[32m     32\u001b[39m     )\n",
            "\u001b[36mFile \u001b[39m\u001b[32md:\\Influencer-Insights-Chrome-Plugin\\.venv\\Lib\\site-packages\\pandas\\core\\series.py:4924\u001b[39m, in \u001b[36mSeries.apply\u001b[39m\u001b[34m(self, func, convert_dtype, args, by_row, **kwargs)\u001b[39m\n\u001b[32m   4789\u001b[39m \u001b[38;5;28;01mdef\u001b[39;00m\u001b[38;5;250m \u001b[39m\u001b[34mapply\u001b[39m(\n\u001b[32m   4790\u001b[39m     \u001b[38;5;28mself\u001b[39m,\n\u001b[32m   4791\u001b[39m     func: AggFuncType,\n\u001b[32m   (...)\u001b[39m\u001b[32m   4796\u001b[39m     **kwargs,\n\u001b[32m   4797\u001b[39m ) -> DataFrame | Series:\n\u001b[32m   4798\u001b[39m \u001b[38;5;250m    \u001b[39m\u001b[33;03m\"\"\"\u001b[39;00m\n\u001b[32m   4799\u001b[39m \u001b[33;03m    Invoke function on values of Series.\u001b[39;00m\n\u001b[32m   4800\u001b[39m \n\u001b[32m   (...)\u001b[39m\u001b[32m   4915\u001b[39m \u001b[33;03m    dtype: float64\u001b[39;00m\n\u001b[32m   4916\u001b[39m \u001b[33;03m    \"\"\"\u001b[39;00m\n\u001b[32m   4917\u001b[39m     \u001b[38;5;28;01mreturn\u001b[39;00m \u001b[43mSeriesApply\u001b[49m\u001b[43m(\u001b[49m\n\u001b[32m   4918\u001b[39m \u001b[43m        \u001b[49m\u001b[38;5;28;43mself\u001b[39;49m\u001b[43m,\u001b[49m\n\u001b[32m   4919\u001b[39m \u001b[43m        \u001b[49m\u001b[43mfunc\u001b[49m\u001b[43m,\u001b[49m\n\u001b[32m   4920\u001b[39m \u001b[43m        \u001b[49m\u001b[43mconvert_dtype\u001b[49m\u001b[43m=\u001b[49m\u001b[43mconvert_dtype\u001b[49m\u001b[43m,\u001b[49m\n\u001b[32m   4921\u001b[39m \u001b[43m        \u001b[49m\u001b[43mby_row\u001b[49m\u001b[43m=\u001b[49m\u001b[43mby_row\u001b[49m\u001b[43m,\u001b[49m\n\u001b[32m   4922\u001b[39m \u001b[43m        \u001b[49m\u001b[43margs\u001b[49m\u001b[43m=\u001b[49m\u001b[43margs\u001b[49m\u001b[43m,\u001b[49m\n\u001b[32m   4923\u001b[39m \u001b[43m        \u001b[49m\u001b[43mkwargs\u001b[49m\u001b[43m=\u001b[49m\u001b[43mkwargs\u001b[49m\u001b[43m,\u001b[49m\n\u001b[32m-> \u001b[39m\u001b[32m4924\u001b[39m \u001b[43m    \u001b[49m\u001b[43m)\u001b[49m\u001b[43m.\u001b[49m\u001b[43mapply\u001b[49m\u001b[43m(\u001b[49m\u001b[43m)\u001b[49m\n",
            "\u001b[36mFile \u001b[39m\u001b[32md:\\Influencer-Insights-Chrome-Plugin\\.venv\\Lib\\site-packages\\pandas\\core\\apply.py:1427\u001b[39m, in \u001b[36mSeriesApply.apply\u001b[39m\u001b[34m(self)\u001b[39m\n\u001b[32m   1424\u001b[39m     \u001b[38;5;28;01mreturn\u001b[39;00m \u001b[38;5;28mself\u001b[39m.apply_compat()\n\u001b[32m   1426\u001b[39m \u001b[38;5;66;03m# self.func is Callable\u001b[39;00m\n\u001b[32m-> \u001b[39m\u001b[32m1427\u001b[39m \u001b[38;5;28;01mreturn\u001b[39;00m \u001b[38;5;28;43mself\u001b[39;49m\u001b[43m.\u001b[49m\u001b[43mapply_standard\u001b[49m\u001b[43m(\u001b[49m\u001b[43m)\u001b[49m\n",
            "\u001b[36mFile \u001b[39m\u001b[32md:\\Influencer-Insights-Chrome-Plugin\\.venv\\Lib\\site-packages\\pandas\\core\\apply.py:1507\u001b[39m, in \u001b[36mSeriesApply.apply_standard\u001b[39m\u001b[34m(self)\u001b[39m\n\u001b[32m   1501\u001b[39m \u001b[38;5;66;03m# row-wise access\u001b[39;00m\n\u001b[32m   1502\u001b[39m \u001b[38;5;66;03m# apply doesn't have a `na_action` keyword and for backward compat reasons\u001b[39;00m\n\u001b[32m   1503\u001b[39m \u001b[38;5;66;03m# we need to give `na_action=\"ignore\"` for categorical data.\u001b[39;00m\n\u001b[32m   1504\u001b[39m \u001b[38;5;66;03m# TODO: remove the `na_action=\"ignore\"` when that default has been changed in\u001b[39;00m\n\u001b[32m   1505\u001b[39m \u001b[38;5;66;03m#  Categorical (GH51645).\u001b[39;00m\n\u001b[32m   1506\u001b[39m action = \u001b[33m\"\u001b[39m\u001b[33mignore\u001b[39m\u001b[33m\"\u001b[39m \u001b[38;5;28;01mif\u001b[39;00m \u001b[38;5;28misinstance\u001b[39m(obj.dtype, CategoricalDtype) \u001b[38;5;28;01melse\u001b[39;00m \u001b[38;5;28;01mNone\u001b[39;00m\n\u001b[32m-> \u001b[39m\u001b[32m1507\u001b[39m mapped = \u001b[43mobj\u001b[49m\u001b[43m.\u001b[49m\u001b[43m_map_values\u001b[49m\u001b[43m(\u001b[49m\n\u001b[32m   1508\u001b[39m \u001b[43m    \u001b[49m\u001b[43mmapper\u001b[49m\u001b[43m=\u001b[49m\u001b[43mcurried\u001b[49m\u001b[43m,\u001b[49m\u001b[43m \u001b[49m\u001b[43mna_action\u001b[49m\u001b[43m=\u001b[49m\u001b[43maction\u001b[49m\u001b[43m,\u001b[49m\u001b[43m \u001b[49m\u001b[43mconvert\u001b[49m\u001b[43m=\u001b[49m\u001b[38;5;28;43mself\u001b[39;49m\u001b[43m.\u001b[49m\u001b[43mconvert_dtype\u001b[49m\n\u001b[32m   1509\u001b[39m \u001b[43m\u001b[49m\u001b[43m)\u001b[49m\n\u001b[32m   1511\u001b[39m \u001b[38;5;28;01mif\u001b[39;00m \u001b[38;5;28mlen\u001b[39m(mapped) \u001b[38;5;129;01mand\u001b[39;00m \u001b[38;5;28misinstance\u001b[39m(mapped[\u001b[32m0\u001b[39m], ABCSeries):\n\u001b[32m   1512\u001b[39m     \u001b[38;5;66;03m# GH#43986 Need to do list(mapped) in order to get treated as nested\u001b[39;00m\n\u001b[32m   1513\u001b[39m     \u001b[38;5;66;03m#  See also GH#25959 regarding EA support\u001b[39;00m\n\u001b[32m   1514\u001b[39m     \u001b[38;5;28;01mreturn\u001b[39;00m obj._constructor_expanddim(\u001b[38;5;28mlist\u001b[39m(mapped), index=obj.index)\n",
            "\u001b[36mFile \u001b[39m\u001b[32md:\\Influencer-Insights-Chrome-Plugin\\.venv\\Lib\\site-packages\\pandas\\core\\base.py:921\u001b[39m, in \u001b[36mIndexOpsMixin._map_values\u001b[39m\u001b[34m(self, mapper, na_action, convert)\u001b[39m\n\u001b[32m    918\u001b[39m \u001b[38;5;28;01mif\u001b[39;00m \u001b[38;5;28misinstance\u001b[39m(arr, ExtensionArray):\n\u001b[32m    919\u001b[39m     \u001b[38;5;28;01mreturn\u001b[39;00m arr.map(mapper, na_action=na_action)\n\u001b[32m--> \u001b[39m\u001b[32m921\u001b[39m \u001b[38;5;28;01mreturn\u001b[39;00m \u001b[43malgorithms\u001b[49m\u001b[43m.\u001b[49m\u001b[43mmap_array\u001b[49m\u001b[43m(\u001b[49m\u001b[43marr\u001b[49m\u001b[43m,\u001b[49m\u001b[43m \u001b[49m\u001b[43mmapper\u001b[49m\u001b[43m,\u001b[49m\u001b[43m \u001b[49m\u001b[43mna_action\u001b[49m\u001b[43m=\u001b[49m\u001b[43mna_action\u001b[49m\u001b[43m,\u001b[49m\u001b[43m \u001b[49m\u001b[43mconvert\u001b[49m\u001b[43m=\u001b[49m\u001b[43mconvert\u001b[49m\u001b[43m)\u001b[49m\n",
            "\u001b[36mFile \u001b[39m\u001b[32md:\\Influencer-Insights-Chrome-Plugin\\.venv\\Lib\\site-packages\\pandas\\core\\algorithms.py:1743\u001b[39m, in \u001b[36mmap_array\u001b[39m\u001b[34m(arr, mapper, na_action, convert)\u001b[39m\n\u001b[32m   1741\u001b[39m values = arr.astype(\u001b[38;5;28mobject\u001b[39m, copy=\u001b[38;5;28;01mFalse\u001b[39;00m)\n\u001b[32m   1742\u001b[39m \u001b[38;5;28;01mif\u001b[39;00m na_action \u001b[38;5;129;01mis\u001b[39;00m \u001b[38;5;28;01mNone\u001b[39;00m:\n\u001b[32m-> \u001b[39m\u001b[32m1743\u001b[39m     \u001b[38;5;28;01mreturn\u001b[39;00m \u001b[43mlib\u001b[49m\u001b[43m.\u001b[49m\u001b[43mmap_infer\u001b[49m\u001b[43m(\u001b[49m\u001b[43mvalues\u001b[49m\u001b[43m,\u001b[49m\u001b[43m \u001b[49m\u001b[43mmapper\u001b[49m\u001b[43m,\u001b[49m\u001b[43m \u001b[49m\u001b[43mconvert\u001b[49m\u001b[43m=\u001b[49m\u001b[43mconvert\u001b[49m\u001b[43m)\u001b[49m\n\u001b[32m   1744\u001b[39m \u001b[38;5;28;01melse\u001b[39;00m:\n\u001b[32m   1745\u001b[39m     \u001b[38;5;28;01mreturn\u001b[39;00m lib.map_infer_mask(\n\u001b[32m   1746\u001b[39m         values, mapper, mask=isna(values).view(np.uint8), convert=convert\n\u001b[32m   1747\u001b[39m     )\n",
            "\u001b[36mFile \u001b[39m\u001b[32mlib.pyx:2972\u001b[39m, in \u001b[36mpandas._libs.lib.map_infer\u001b[39m\u001b[34m()\u001b[39m\n",
            "\u001b[36mCell\u001b[39m\u001b[36m \u001b[39m\u001b[32mIn[54]\u001b[39m\u001b[32m, line 37\u001b[39m, in \u001b[36mremove_stopwords\u001b[39m\u001b[34m(text)\u001b[39m\n\u001b[32m     35\u001b[39m \u001b[38;5;28;01mdef\u001b[39;00m\u001b[38;5;250m \u001b[39m\u001b[34mremove_stopwords\u001b[39m(text):\n\u001b[32m     36\u001b[39m     stop_words = \u001b[38;5;28mset\u001b[39m(stopwords.words(\u001b[33m'\u001b[39m\u001b[33menglish\u001b[39m\u001b[33m'\u001b[39m))\n\u001b[32m---> \u001b[39m\u001b[32m37\u001b[39m     word_tokens = \u001b[43mword_tokenize\u001b[49m\u001b[43m(\u001b[49m\u001b[43mtext\u001b[49m\u001b[43m)\u001b[49m\n\u001b[32m     38\u001b[39m     filtered_sentence = [w \u001b[38;5;28;01mfor\u001b[39;00m w \u001b[38;5;129;01min\u001b[39;00m word_tokens \u001b[38;5;28;01mif\u001b[39;00m \u001b[38;5;129;01mnot\u001b[39;00m w.lower() \u001b[38;5;129;01min\u001b[39;00m stop_words]\n\u001b[32m     39\u001b[39m     \u001b[38;5;28;01mreturn\u001b[39;00m \u001b[33m\"\u001b[39m\u001b[33m \u001b[39m\u001b[33m\"\u001b[39m.join(filtered_sentence)\n",
            "\u001b[36mFile \u001b[39m\u001b[32md:\\Influencer-Insights-Chrome-Plugin\\.venv\\Lib\\site-packages\\nltk\\tokenize\\__init__.py:142\u001b[39m, in \u001b[36mword_tokenize\u001b[39m\u001b[34m(text, language, preserve_line)\u001b[39m\n\u001b[32m    127\u001b[39m \u001b[38;5;28;01mdef\u001b[39;00m\u001b[38;5;250m \u001b[39m\u001b[34mword_tokenize\u001b[39m(text, language=\u001b[33m\"\u001b[39m\u001b[33menglish\u001b[39m\u001b[33m\"\u001b[39m, preserve_line=\u001b[38;5;28;01mFalse\u001b[39;00m):\n\u001b[32m    128\u001b[39m \u001b[38;5;250m    \u001b[39m\u001b[33;03m\"\"\"\u001b[39;00m\n\u001b[32m    129\u001b[39m \u001b[33;03m    Return a tokenized copy of *text*,\u001b[39;00m\n\u001b[32m    130\u001b[39m \u001b[33;03m    using NLTK's recommended word tokenizer\u001b[39;00m\n\u001b[32m   (...)\u001b[39m\u001b[32m    140\u001b[39m \u001b[33;03m    :type preserve_line: bool\u001b[39;00m\n\u001b[32m    141\u001b[39m \u001b[33;03m    \"\"\"\u001b[39;00m\n\u001b[32m--> \u001b[39m\u001b[32m142\u001b[39m     sentences = [text] \u001b[38;5;28;01mif\u001b[39;00m preserve_line \u001b[38;5;28;01melse\u001b[39;00m \u001b[43msent_tokenize\u001b[49m\u001b[43m(\u001b[49m\u001b[43mtext\u001b[49m\u001b[43m,\u001b[49m\u001b[43m \u001b[49m\u001b[43mlanguage\u001b[49m\u001b[43m)\u001b[49m\n\u001b[32m    143\u001b[39m     \u001b[38;5;28;01mreturn\u001b[39;00m [\n\u001b[32m    144\u001b[39m         token \u001b[38;5;28;01mfor\u001b[39;00m sent \u001b[38;5;129;01min\u001b[39;00m sentences \u001b[38;5;28;01mfor\u001b[39;00m token \u001b[38;5;129;01min\u001b[39;00m _treebank_word_tokenizer.tokenize(sent)\n\u001b[32m    145\u001b[39m     ]\n",
            "\u001b[36mFile \u001b[39m\u001b[32md:\\Influencer-Insights-Chrome-Plugin\\.venv\\Lib\\site-packages\\nltk\\tokenize\\__init__.py:119\u001b[39m, in \u001b[36msent_tokenize\u001b[39m\u001b[34m(text, language)\u001b[39m\n\u001b[32m    109\u001b[39m \u001b[38;5;28;01mdef\u001b[39;00m\u001b[38;5;250m \u001b[39m\u001b[34msent_tokenize\u001b[39m(text, language=\u001b[33m\"\u001b[39m\u001b[33menglish\u001b[39m\u001b[33m\"\u001b[39m):\n\u001b[32m    110\u001b[39m \u001b[38;5;250m    \u001b[39m\u001b[33;03m\"\"\"\u001b[39;00m\n\u001b[32m    111\u001b[39m \u001b[33;03m    Return a sentence-tokenized copy of *text*,\u001b[39;00m\n\u001b[32m    112\u001b[39m \u001b[33;03m    using NLTK's recommended sentence tokenizer\u001b[39;00m\n\u001b[32m   (...)\u001b[39m\u001b[32m    117\u001b[39m \u001b[33;03m    :param language: the model name in the Punkt corpus\u001b[39;00m\n\u001b[32m    118\u001b[39m \u001b[33;03m    \"\"\"\u001b[39;00m\n\u001b[32m--> \u001b[39m\u001b[32m119\u001b[39m     tokenizer = \u001b[43m_get_punkt_tokenizer\u001b[49m\u001b[43m(\u001b[49m\u001b[43mlanguage\u001b[49m\u001b[43m)\u001b[49m\n\u001b[32m    120\u001b[39m     \u001b[38;5;28;01mreturn\u001b[39;00m tokenizer.tokenize(text)\n",
            "\u001b[36mFile \u001b[39m\u001b[32md:\\Influencer-Insights-Chrome-Plugin\\.venv\\Lib\\site-packages\\nltk\\tokenize\\__init__.py:105\u001b[39m, in \u001b[36m_get_punkt_tokenizer\u001b[39m\u001b[34m(language)\u001b[39m\n\u001b[32m     96\u001b[39m \u001b[38;5;129m@functools\u001b[39m.lru_cache\n\u001b[32m     97\u001b[39m \u001b[38;5;28;01mdef\u001b[39;00m\u001b[38;5;250m \u001b[39m\u001b[34m_get_punkt_tokenizer\u001b[39m(language=\u001b[33m\"\u001b[39m\u001b[33menglish\u001b[39m\u001b[33m\"\u001b[39m):\n\u001b[32m     98\u001b[39m \u001b[38;5;250m    \u001b[39m\u001b[33;03m\"\"\"\u001b[39;00m\n\u001b[32m     99\u001b[39m \u001b[33;03m    A constructor for the PunktTokenizer that utilizes\u001b[39;00m\n\u001b[32m    100\u001b[39m \u001b[33;03m    a lru cache for performance.\u001b[39;00m\n\u001b[32m   (...)\u001b[39m\u001b[32m    103\u001b[39m \u001b[33;03m    :type language: str\u001b[39;00m\n\u001b[32m    104\u001b[39m \u001b[33;03m    \"\"\"\u001b[39;00m\n\u001b[32m--> \u001b[39m\u001b[32m105\u001b[39m     \u001b[38;5;28;01mreturn\u001b[39;00m \u001b[43mPunktTokenizer\u001b[49m\u001b[43m(\u001b[49m\u001b[43mlanguage\u001b[49m\u001b[43m)\u001b[49m\n",
            "\u001b[36mFile \u001b[39m\u001b[32md:\\Influencer-Insights-Chrome-Plugin\\.venv\\Lib\\site-packages\\nltk\\tokenize\\punkt.py:1744\u001b[39m, in \u001b[36mPunktTokenizer.__init__\u001b[39m\u001b[34m(self, lang)\u001b[39m\n\u001b[32m   1742\u001b[39m \u001b[38;5;28;01mdef\u001b[39;00m\u001b[38;5;250m \u001b[39m\u001b[34m__init__\u001b[39m(\u001b[38;5;28mself\u001b[39m, lang=\u001b[33m\"\u001b[39m\u001b[33menglish\u001b[39m\u001b[33m\"\u001b[39m):\n\u001b[32m   1743\u001b[39m     PunktSentenceTokenizer.\u001b[34m__init__\u001b[39m(\u001b[38;5;28mself\u001b[39m)\n\u001b[32m-> \u001b[39m\u001b[32m1744\u001b[39m     \u001b[38;5;28;43mself\u001b[39;49m\u001b[43m.\u001b[49m\u001b[43mload_lang\u001b[49m\u001b[43m(\u001b[49m\u001b[43mlang\u001b[49m\u001b[43m)\u001b[49m\n",
            "\u001b[36mFile \u001b[39m\u001b[32md:\\Influencer-Insights-Chrome-Plugin\\.venv\\Lib\\site-packages\\nltk\\tokenize\\punkt.py:1749\u001b[39m, in \u001b[36mPunktTokenizer.load_lang\u001b[39m\u001b[34m(self, lang)\u001b[39m\n\u001b[32m   1746\u001b[39m \u001b[38;5;28;01mdef\u001b[39;00m\u001b[38;5;250m \u001b[39m\u001b[34mload_lang\u001b[39m(\u001b[38;5;28mself\u001b[39m, lang=\u001b[33m\"\u001b[39m\u001b[33menglish\u001b[39m\u001b[33m\"\u001b[39m):\n\u001b[32m   1747\u001b[39m     \u001b[38;5;28;01mfrom\u001b[39;00m\u001b[38;5;250m \u001b[39m\u001b[34;01mnltk\u001b[39;00m\u001b[34;01m.\u001b[39;00m\u001b[34;01mdata\u001b[39;00m\u001b[38;5;250m \u001b[39m\u001b[38;5;28;01mimport\u001b[39;00m find\n\u001b[32m-> \u001b[39m\u001b[32m1749\u001b[39m     lang_dir = \u001b[43mfind\u001b[49m\u001b[43m(\u001b[49m\u001b[33;43mf\u001b[39;49m\u001b[33;43m\"\u001b[39;49m\u001b[33;43mtokenizers/punkt_tab/\u001b[39;49m\u001b[38;5;132;43;01m{\u001b[39;49;00m\u001b[43mlang\u001b[49m\u001b[38;5;132;43;01m}\u001b[39;49;00m\u001b[33;43m/\u001b[39;49m\u001b[33;43m\"\u001b[39;49m\u001b[43m)\u001b[49m\n\u001b[32m   1750\u001b[39m     \u001b[38;5;28mself\u001b[39m._params = load_punkt_params(lang_dir)\n\u001b[32m   1751\u001b[39m     \u001b[38;5;28mself\u001b[39m._lang = lang\n",
            "\u001b[36mFile \u001b[39m\u001b[32md:\\Influencer-Insights-Chrome-Plugin\\.venv\\Lib\\site-packages\\nltk\\data.py:579\u001b[39m, in \u001b[36mfind\u001b[39m\u001b[34m(resource_name, paths)\u001b[39m\n\u001b[32m    577\u001b[39m sep = \u001b[33m\"\u001b[39m\u001b[33m*\u001b[39m\u001b[33m\"\u001b[39m * \u001b[32m70\u001b[39m\n\u001b[32m    578\u001b[39m resource_not_found = \u001b[33mf\u001b[39m\u001b[33m\"\u001b[39m\u001b[38;5;130;01m\\n\u001b[39;00m\u001b[38;5;132;01m{\u001b[39;00msep\u001b[38;5;132;01m}\u001b[39;00m\u001b[38;5;130;01m\\n\u001b[39;00m\u001b[38;5;132;01m{\u001b[39;00mmsg\u001b[38;5;132;01m}\u001b[39;00m\u001b[38;5;130;01m\\n\u001b[39;00m\u001b[38;5;132;01m{\u001b[39;00msep\u001b[38;5;132;01m}\u001b[39;00m\u001b[38;5;130;01m\\n\u001b[39;00m\u001b[33m\"\u001b[39m\n\u001b[32m--> \u001b[39m\u001b[32m579\u001b[39m \u001b[38;5;28;01mraise\u001b[39;00m \u001b[38;5;167;01mLookupError\u001b[39;00m(resource_not_found)\n",
            "\u001b[31mLookupError\u001b[39m: \n**********************************************************************\n  Resource \u001b[93mpunkt_tab\u001b[0m not found.\n  Please use the NLTK Downloader to obtain the resource:\n\n  \u001b[31m>>> import nltk\n  >>> nltk.download('punkt_tab')\n  \u001b[0m\n  For more information see: https://www.nltk.org/data.html\n\n  Attempted to load \u001b[93mtokenizers/punkt_tab/english/\u001b[0m\n\n  Searched in:\n    - 'C:\\\\Users\\\\Sagar Nikam/nltk_data'\n    - 'd:\\\\Influencer-Insights-Chrome-Plugin\\\\.venv\\\\nltk_data'\n    - 'd:\\\\Influencer-Insights-Chrome-Plugin\\\\.venv\\\\share\\\\nltk_data'\n    - 'd:\\\\Influencer-Insights-Chrome-Plugin\\\\.venv\\\\lib\\\\nltk_data'\n    - 'C:\\\\Users\\\\Sagar Nikam\\\\AppData\\\\Roaming\\\\nltk_data'\n    - 'C:\\\\nltk_data'\n    - 'D:\\\\nltk_data'\n    - 'E:\\\\nltk_data'\n**********************************************************************\n"
          ]
        }
      ],
      "source": [
        "final_df = clean_data(df)"
      ]
    },
    {
      "cell_type": "code",
      "execution_count": null,
      "id": "b89f1a19-0db2-4373-9683-8b2c5fc4042a",
      "metadata": {
        "id": "b89f1a19-0db2-4373-9683-8b2c5fc4042a"
      },
      "outputs": [],
      "source": [
        "final_df.sample(30)"
      ]
    },
    {
      "cell_type": "code",
      "execution_count": null,
      "id": "85dfc05f-915d-4dfa-93a8-5ffa0555fcaf",
      "metadata": {
        "id": "85dfc05f-915d-4dfa-93a8-5ffa0555fcaf"
      },
      "outputs": [],
      "source": [
        "# form the pos tag count data\n",
        "\n",
        "pos_tag_data = final_df['comment'].apply(count_pos_tags)"
      ]
    },
    {
      "cell_type": "code",
      "execution_count": null,
      "id": "89c57d0b-42cf-40b8-baff-c77bad36b668",
      "metadata": {
        "id": "89c57d0b-42cf-40b8-baff-c77bad36b668"
      },
      "outputs": [],
      "source": [
        "pos_tag_data"
      ]
    },
    {
      "cell_type": "code",
      "execution_count": null,
      "id": "d5efeeaf-268f-4c3b-b9ad-ad7afdfbbb4e",
      "metadata": {
        "id": "d5efeeaf-268f-4c3b-b9ad-ad7afdfbbb4e"
      },
      "outputs": [],
      "source": [
        "final_df = final_df.join(pos_tag_data)"
      ]
    },
    {
      "cell_type": "code",
      "execution_count": null,
      "id": "792b5367-a7c5-47d2-99f4-d15c5dd4caef",
      "metadata": {
        "id": "792b5367-a7c5-47d2-99f4-d15c5dd4caef"
      },
      "outputs": [],
      "source": [
        "# check cleaned df for missing values\n",
        "\n",
        "final_df.isna().sum()"
      ]
    },
    {
      "cell_type": "code",
      "execution_count": null,
      "id": "b0122515-8952-467e-8f55-d8422280321f",
      "metadata": {
        "id": "b0122515-8952-467e-8f55-d8422280321f"
      },
      "outputs": [],
      "source": [
        "# shape of cleaned data\n",
        "\n",
        "final_df.shape"
      ]
    },
    {
      "cell_type": "markdown",
      "id": "1884d997-4dd9-4b4e-886a-c5a4c6e50464",
      "metadata": {
        "id": "1884d997-4dd9-4b4e-886a-c5a4c6e50464"
      },
      "source": [
        "# EDA"
      ]
    },
    {
      "cell_type": "code",
      "execution_count": null,
      "id": "1e8571d0-a4ac-44c5-882d-b2dcaebdc3fb",
      "metadata": {
        "id": "1e8571d0-a4ac-44c5-882d-b2dcaebdc3fb"
      },
      "outputs": [],
      "source": [
        "# distribution of classes\n",
        "\n",
        "sns.countplot(data=final_df,x=\"named_sentiment\");"
      ]
    },
    {
      "cell_type": "markdown",
      "id": "cc1f2faa-6340-417a-99de-60d3eaef2073",
      "metadata": {
        "id": "cc1f2faa-6340-417a-99de-60d3eaef2073"
      },
      "source": [
        "**Clearly the data shows class imbalance**"
      ]
    },
    {
      "cell_type": "code",
      "execution_count": null,
      "id": "80d8daec-6c91-4449-9ac3-65548adc6e5c",
      "metadata": {
        "id": "80d8daec-6c91-4449-9ac3-65548adc6e5c"
      },
      "outputs": [],
      "source": [
        "# frequency distribution of sentiments\n",
        "\n",
        "final_df['named_sentiment'].value_counts(normalize=True).mul(100).round(2)"
      ]
    },
    {
      "cell_type": "code",
      "execution_count": null,
      "id": "188f0e06-64d4-4ad8-ac04-a7544197788e",
      "metadata": {
        "id": "188f0e06-64d4-4ad8-ac04-a7544197788e"
      },
      "outputs": [],
      "source": [
        "# distribution of word_count per sentiment\n",
        "\n",
        "sns.displot(final_df,x='word_count',col='named_sentiment',kind='kde');"
      ]
    },
    {
      "cell_type": "code",
      "execution_count": null,
      "id": "14de7a48-53b0-43b4-bb8a-9e4f3cf8a94c",
      "metadata": {
        "id": "14de7a48-53b0-43b4-bb8a-9e4f3cf8a94c"
      },
      "outputs": [],
      "source": [
        "# statistical summary of word_count\n",
        "\n",
        "sentiment_grp = final_df.groupby(\"named_sentiment\")\n",
        "\n",
        "sentiment_grp['word_count'].agg([\"min\",\"max\",\"median\",\"mean\"])"
      ]
    },
    {
      "cell_type": "code",
      "execution_count": null,
      "id": "df8d1cfc-ff18-485a-b23e-743eb864d290",
      "metadata": {
        "id": "df8d1cfc-ff18-485a-b23e-743eb864d290"
      },
      "outputs": [],
      "source": [
        "#sentiment vs word_count\n",
        "\n",
        "sns.scatterplot(final_df,x='named_sentiment',y='word_count');"
      ]
    },
    {
      "cell_type": "code",
      "execution_count": null,
      "id": "4f0ca560-c51d-4165-a526-a62c2c871d72",
      "metadata": {
        "id": "4f0ca560-c51d-4165-a526-a62c2c871d72"
      },
      "outputs": [],
      "source": [
        "# sentiment vs word count --> boxplots\n",
        "\n",
        "px.box(data_frame=final_df,x='named_sentiment',y='word_count')"
      ]
    },
    {
      "cell_type": "code",
      "execution_count": null,
      "id": "9369c2b0-8caa-4e80-ad6f-245afcd06be9",
      "metadata": {
        "id": "9369c2b0-8caa-4e80-ad6f-245afcd06be9"
      },
      "outputs": [],
      "source": [
        "# distribution of sentence length based on sentiment\n",
        "\n",
        "pd.crosstab(index=final_df['named_sentiment'],columns=final_df['sentence_length'],normalize=True).mul(100)"
      ]
    },
    {
      "cell_type": "code",
      "execution_count": null,
      "id": "2887a84f-3963-40f4-8732-5ce8d77da1af",
      "metadata": {
        "id": "2887a84f-3963-40f4-8732-5ce8d77da1af"
      },
      "outputs": [],
      "source": [
        "import warnings\n",
        "\n",
        "warnings.filterwarnings(\"ignore\")\n",
        "fig = px.sunburst(final_df,path=['named_sentiment','sentence_length'],width=700,height=700)\n",
        "fig.show()"
      ]
    },
    {
      "cell_type": "code",
      "execution_count": null,
      "id": "887731da-e8ba-4e55-8ebe-d066cc91272e",
      "metadata": {
        "id": "887731da-e8ba-4e55-8ebe-d066cc91272e"
      },
      "outputs": [],
      "source": [
        "# sentence length distribution among sentences\n",
        "\n",
        "sns.countplot(final_df,x='sentence_length',hue='named_sentiment');"
      ]
    },
    {
      "cell_type": "code",
      "execution_count": null,
      "id": "831159c6-3a52-4a7c-8715-21cb560af7c0",
      "metadata": {
        "id": "831159c6-3a52-4a7c-8715-21cb560af7c0"
      },
      "outputs": [],
      "source": [
        "# median word counts among sentiments\n",
        "\n",
        "sns.barplot(final_df,x='named_sentiment',y='word_count',estimator='median');"
      ]
    },
    {
      "cell_type": "code",
      "execution_count": null,
      "id": "1bc7fcf6-9edf-4665-adf1-cf12dd17ab3f",
      "metadata": {
        "id": "1bc7fcf6-9edf-4665-adf1-cf12dd17ab3f"
      },
      "outputs": [],
      "source": [
        "# avg word counts among sentiments\n",
        "\n",
        "sns.barplot(final_df,x='named_sentiment',y='word_count',estimator='mean');"
      ]
    },
    {
      "cell_type": "code",
      "execution_count": null,
      "id": "f7403357-6aed-488d-9276-198bd5e50fab",
      "metadata": {
        "id": "f7403357-6aed-488d-9276-198bd5e50fab"
      },
      "outputs": [],
      "source": [
        "# plot wordclouds for each sentiment\n",
        "\n",
        "def plot_wordcloud(target_class):\n",
        "    text = ' '.join(final_df.loc[(final_df['named_sentiment'] == target_class),\"comment\"])\n",
        "    wordcloud = WordCloud(width=800, height=600).generate(text)\n",
        "    plt.imshow(wordcloud, interpolation='bilinear')\n",
        "    plt.axis('off')\n",
        "    plt.title(f'Word Cloud for Target-->{target_class}')\n",
        "    plt.show()\n",
        "\n",
        "for sentiment in final_df['named_sentiment'].unique().tolist():\n",
        "    plot_wordcloud(sentiment)"
      ]
    },
    {
      "cell_type": "code",
      "execution_count": null,
      "id": "f4bcc7da-4f4e-49a1-a076-48d2155bb575",
      "metadata": {
        "id": "f4bcc7da-4f4e-49a1-a076-48d2155bb575"
      },
      "outputs": [],
      "source": [
        "# top 15 words and their count in each sentiment\n",
        "\n",
        "def tokenize_sentences(text):\n",
        "    tokens = nltk.word_tokenize(text)\n",
        "    return tokens\n",
        "\n",
        "tokens = final_df.loc[:,\"comment\"].apply(tokenize_sentences)\n",
        "\n",
        "positive_tokens = tokens.loc[final_df['named_sentiment'] == \"positive\"].sum()\n",
        "neutral_tokens = tokens.loc[final_df['named_sentiment'] == \"neutral\"].sum()\n",
        "negative_tokens = tokens.loc[final_df['named_sentiment'] == \"negative\"].sum()"
      ]
    },
    {
      "cell_type": "code",
      "execution_count": null,
      "id": "76b7641b-67f8-440b-889b-320fa8bcf09d",
      "metadata": {
        "id": "76b7641b-67f8-440b-889b-320fa8bcf09d"
      },
      "outputs": [],
      "source": [
        "# find the top 15 words\n",
        "\n",
        "def get_top_words(tokens, n=10):\n",
        "    word_counts = Counter(tokens)\n",
        "    return word_counts.most_common(n)\n",
        "\n",
        "top_15_positive = get_top_words(positive_tokens,15)\n",
        "top_15_neutral = get_top_words(neutral_tokens,15)\n",
        "top_15_negative = get_top_words(negative_tokens,15)\n",
        "\n",
        "print(\"Top 10 words for Positive sentiment:\", top_15_positive)\n",
        "print(\"Top 10 words for Neutral sentiment:\", top_15_neutral)\n",
        "print(\"Top 10 words for Negative sentiment:\", top_15_negative)"
      ]
    },
    {
      "cell_type": "code",
      "execution_count": null,
      "id": "24191383-6f4d-43b9-9129-9f9ef18892a0",
      "metadata": {
        "id": "24191383-6f4d-43b9-9129-9f9ef18892a0"
      },
      "outputs": [],
      "source": [
        "# bar plot for top 15 positive sentiment words\n",
        "(\n",
        "    pd.DataFrame(top_15_positive,columns=['word','count'])\n",
        "    .set_index('word')\n",
        "    .div(len(positive_tokens))\n",
        "    .mul(100)\n",
        "    .plot(kind='bar',figsize=(12,7))\n",
        ")\n",
        "plt.xlabel(\"words\")\n",
        "plt.ylabel(\"percentage of occurence\")\n",
        "plt.title(\"Top 15 positive words and their count\")\n",
        "plt.show()"
      ]
    },
    {
      "cell_type": "code",
      "execution_count": null,
      "id": "5b03197e-7f5c-465a-be62-aa2479839b14",
      "metadata": {
        "id": "5b03197e-7f5c-465a-be62-aa2479839b14"
      },
      "outputs": [],
      "source": [
        "# bar plot for top 15 neutral sentiment words\n",
        "(\n",
        "    pd.DataFrame(top_15_neutral,columns=['word','count'])\n",
        "    .set_index('word')\n",
        "    .div(len(neutral_tokens))\n",
        "    .mul(100)\n",
        "    .plot(kind='bar',figsize=(12,7))\n",
        ")\n",
        "plt.xlabel(\"words\")\n",
        "plt.ylabel(\"percentage of occurence\")\n",
        "plt.title(\"Top 15 neutral words and their count\")\n",
        "plt.show()"
      ]
    },
    {
      "cell_type": "code",
      "execution_count": null,
      "id": "1b271ce2-23be-4605-a439-6abc4c5cad34",
      "metadata": {
        "id": "1b271ce2-23be-4605-a439-6abc4c5cad34"
      },
      "outputs": [],
      "source": [
        "# bar plot for top 15 negative sentiment words\n",
        "(\n",
        "    pd.DataFrame(top_15_negative,columns=['word','count'])\n",
        "    .set_index('word')\n",
        "    .div(len(negative_tokens))\n",
        "    .mul(100)\n",
        "    .plot(kind='bar',figsize=(12,7))\n",
        ")\n",
        "plt.xlabel(\"words\")\n",
        "plt.ylabel(\"percentage of occurence\")\n",
        "plt.title(\"Top 15 negative words and their count\")\n",
        "plt.show()"
      ]
    },
    {
      "cell_type": "code",
      "execution_count": null,
      "id": "bbc135a9-f85c-46d3-98e0-86da128f4761",
      "metadata": {
        "id": "bbc135a9-f85c-46d3-98e0-86da128f4761"
      },
      "outputs": [],
      "source": [
        "# distribution of responses among sentiments\n",
        "sns.countplot(final_df,x='response',hue='named_sentiment');"
      ]
    },
    {
      "cell_type": "markdown",
      "id": "c217c7fa-9dd3-4bf4-92a5-a1ce6213e10e",
      "metadata": {
        "id": "c217c7fa-9dd3-4bf4-92a5-a1ce6213e10e"
      },
      "source": [
        "**Response** --> This column denotes those comments which are a length of 3 or less words, which cannot be considered a comment but are feedbacks or responses"
      ]
    },
    {
      "cell_type": "code",
      "execution_count": null,
      "id": "65fee7b4-10c6-4d60-9a39-a00e08514e65",
      "metadata": {
        "id": "65fee7b4-10c6-4d60-9a39-a00e08514e65"
      },
      "outputs": [],
      "source": [
        "# response comments\n",
        "\n",
        "(\n",
        "    final_df\n",
        "    .loc[(final_df['response'] == 1),\"comment\"]\n",
        ")"
      ]
    },
    {
      "cell_type": "code",
      "execution_count": null,
      "id": "b57431d2-e7ad-4aa2-86cc-28f54f396288",
      "metadata": {
        "id": "b57431d2-e7ad-4aa2-86cc-28f54f396288"
      },
      "outputs": [],
      "source": [
        "# boxplots for pos tags for each sentiment\n",
        "\n",
        "fig, ax = plt.subplots(nrows=3,ncols=1,figsize=(7,15))\n",
        "\n",
        "for ind,y in enumerate(final_df.columns[-3:].to_list()):\n",
        "    sns.boxplot(data=final_df,x='named_sentiment',y=y,ax=ax[ind])"
      ]
    },
    {
      "cell_type": "code",
      "execution_count": null,
      "id": "591cd582-75c5-4757-bb1c-1a164f15895b",
      "metadata": {
        "id": "591cd582-75c5-4757-bb1c-1a164f15895b"
      },
      "outputs": [],
      "source": [
        "from math import floor"
      ]
    },
    {
      "cell_type": "code",
      "execution_count": null,
      "id": "d014617a-1e8a-40c2-a510-21132d230eca",
      "metadata": {
        "id": "d014617a-1e8a-40c2-a510-21132d230eca"
      },
      "outputs": [],
      "source": [
        "# statistical summary\n",
        "\n",
        "sentiment_grp[['nouns','adjectives','verbs']].agg([\"median\",\"mean\"]).map(floor)"
      ]
    },
    {
      "cell_type": "code",
      "execution_count": null,
      "id": "e71c1b13-42dd-4581-b54e-412174bd8652",
      "metadata": {
        "id": "e71c1b13-42dd-4581-b54e-412174bd8652"
      },
      "outputs": [],
      "source": []
    }
  ],
  "metadata": {
    "colab": {
      "provenance": []
    },
    "kernelspec": {
      "display_name": ".venv",
      "language": "python",
      "name": "python3"
    },
    "language_info": {
      "codemirror_mode": {
        "name": "ipython",
        "version": 3
      },
      "file_extension": ".py",
      "mimetype": "text/x-python",
      "name": "python",
      "nbconvert_exporter": "python",
      "pygments_lexer": "ipython3",
      "version": "3.11.9"
    }
  },
  "nbformat": 4,
  "nbformat_minor": 5
}
